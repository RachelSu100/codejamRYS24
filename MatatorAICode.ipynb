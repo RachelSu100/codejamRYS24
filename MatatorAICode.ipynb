{
 "cells": [
  {
   "cell_type": "code",
   "execution_count": 33,
   "metadata": {},
   "outputs": [
    {
     "name": "stdout",
     "output_type": "stream",
     "text": [
      "\u001b[33mWARNING: You are using pip version 21.2.4; however, version 24.3.1 is available.\n",
      "You should consider upgrading via the '/Library/Developer/CommandLineTools/usr/bin/python3 -m pip install --upgrade pip' command.\u001b[0m\n",
      "Note: you may need to restart the kernel to use updated packages.\n",
      "\u001b[33mWARNING: You are using pip version 21.2.4; however, version 24.3.1 is available.\n",
      "You should consider upgrading via the '/Library/Developer/CommandLineTools/usr/bin/python3 -m pip install --upgrade pip' command.\u001b[0m\n",
      "Note: you may need to restart the kernel to use updated packages.\n",
      "\u001b[33mWARNING: You are using pip version 21.2.4; however, version 24.3.1 is available.\n",
      "You should consider upgrading via the '/Library/Developer/CommandLineTools/usr/bin/python3 -m pip install --upgrade pip' command.\u001b[0m\n",
      "Note: you may need to restart the kernel to use updated packages.\n",
      "Requirements installed successfully!\n"
     ]
    }
   ],
   "source": [
    "# requirements \n",
    "%pip install pandas --quiet \n",
    "%pip install flask requests --quiet\n",
    "%pip install ollama --quiet\n",
    "\n",
    "print(\"Requirements installed successfully!\")\n"
   ]
  },
  {
   "cell_type": "code",
   "execution_count": 41,
   "metadata": {},
   "outputs": [
    {
     "name": "stdout",
     "output_type": "stream",
     "text": [
      "Starting imports...\n",
      "Successfully imported!\n"
     ]
    }
   ],
   "source": [
    "# imports\n",
    "print(\"Starting imports...\")\n",
    "import pandas as pd\n",
    "from flask import Flask, request, jsonify\n",
    "import ollama\n",
    "import json\n",
    "\n",
    "\n",
    "print(\"Successfully imported!\")"
   ]
  },
  {
   "cell_type": "code",
   "execution_count": 24,
   "metadata": {},
   "outputs": [],
   "source": [
    "# Load the dataset into a df\n",
    "carsDF = pd.read_csv('vehicles.csv')"
   ]
  },
  {
   "cell_type": "code",
   "execution_count": null,
   "metadata": {},
   "outputs": [],
   "source": [
    "# view dataset \n",
    "carsDF.head()"
   ]
  },
  {
   "cell_type": "markdown",
   "metadata": {},
   "source": [
    "Data Cleaning and Preprocessing "
   ]
  },
  {
   "cell_type": "code",
   "execution_count": 26,
   "metadata": {},
   "outputs": [],
   "source": [
    "# Normalize text values to title case for consistency\n",
    "carsDF['Make'] = carsDF['Make'].str.strip().str.upper()  # Remove extra spaces and convert to uppercase\n",
    "carsDF['Model'] = carsDF['Model'].str.strip().str.upper()  # Remove extra spaces and convert to uppercase\n"
   ]
  },
  {
   "cell_type": "code",
   "execution_count": null,
   "metadata": {},
   "outputs": [],
   "source": [
    "# Verify normalization\n",
    "print(carsDF[['Make', 'Model']])"
   ]
  },
  {
   "cell_type": "code",
   "execution_count": 28,
   "metadata": {},
   "outputs": [],
   "source": [
    "# Data Type Correction\n",
    "# Convert numerical columns\n",
    "carsDF['Year'] = carsDF['Year'].astype(int)\n",
    "carsDF['SellingPrice'] = carsDF['SellingPrice'].astype(float)\n",
    "carsDF['Doors'] = carsDF['Doors'].astype(int)\n"
   ]
  },
  {
   "cell_type": "code",
   "execution_count": 29,
   "metadata": {},
   "outputs": [],
   "source": [
    "carsDF['PriceRange'] = pd.cut(carsDF['SellingPrice'], \n",
    "                              bins=[0, 10000, 20000, 30000, 50000, 100000],\n",
    "                              labels=['Under 10K', '10K-20K', '20K-30K', '30K-50K', 'Above 50K'])\n"
   ]
  },
  {
   "cell_type": "code",
   "execution_count": null,
   "metadata": {},
   "outputs": [],
   "source": [
    "app = Flask(__name__)\n",
    "\n",
    "@app.route('/chat', methods=['POST'])\n",
    "def chat():\n",
    "    user_message = request.json.get('message')\n",
    "    conversation_id = request.json.get('conversation_id')\n",
    "\n",
    "    # Get response from Ollama model\n",
    "    response = ollama.chat(\n",
    "        model=\"your-llama-model\",\n",
    "        message=user_message,\n",
    "        conversation_id=conversation_id\n",
    "    )\n",
    "\n",
    "    # Use LLM to extract user preferences\n",
    "    user_preferences = extract_preferences(response['content'])\n",
    "    filtered_results = search_cars(carsDF, **user_preferences)\n",
    "\n",
    "    if filtered_results.empty:\n",
    "        follow_up_message = \"I couldn't find any cars matching your preferences. Would you like to modify your criteria?\"\n",
    "    else:\n",
    "        top_cars = filtered_results.head(5)  # Get top 5 matches\n",
    "        follow_up_message = format_car_suggestions(top_cars)\n",
    "\n",
    "    # Respond with Ollama's response and filtered car suggestions\n",
    "    return jsonify({\"reply\": follow_up_message, \"conversation_id\": response['conversation_id']})\n",
    "\n",
    "# Run the server\n",
    "if __name__ == \"__main__\":\n",
    "    app.run(port=5000)"
   ]
  },
  {
   "cell_type": "code",
   "execution_count": 30,
   "metadata": {},
   "outputs": [
    {
     "name": "stdout",
     "output_type": "stream",
     "text": [
      "    Make Model  Year  Certified  SellingPrice\n",
      "0  MAZDA  CX-9  2019      False       18498.0\n"
     ]
    }
   ],
   "source": [
    "def search_cars(carsDF, car_type=None, year=None, make=None, model=None, model_number=None, stock=None, vin=None, certified=None):\n",
    "    \"\"\"\n",
    "    Function to filter the cars DataFrame based on user-provided criteria.\n",
    "    Arguments:\n",
    "    - df: DataFrame containing car details.\n",
    "    - car_type: 'New' or 'Used'\n",
    "    - year: Year of manufacture (e.g., 2020)\n",
    "    - make: Make of the car (e.g., 'Mazda')\n",
    "    - model: Model of the car (e.g., 'CX-9')\n",
    "    - model_number: Internal model code\n",
    "    - stock: Dealer stock number\n",
    "    - vin: Vehicle Identification Number\n",
    "    - certified: Pre-owned certification status (True/False)\n",
    "    \n",
    "    Returns:\n",
    "    - Filtered DataFrame based on provided criteria.\n",
    "    \"\"\"\n",
    "    filtered_df = carsDF.copy()\n",
    "\n",
    "    if car_type:\n",
    "        filtered_df = filtered_df[filtered_df['Type'].str.upper() == car_type.upper()]\n",
    "    if year:\n",
    "        filtered_df = filtered_df[filtered_df['Year'] == year]\n",
    "    if make:\n",
    "        filtered_df = filtered_df[filtered_df['Make'].str.upper() == make.upper()]\n",
    "    if model:\n",
    "        filtered_df = filtered_df[filtered_df['Model'].str.upper() == model.upper()]\n",
    "    if model_number:\n",
    "        filtered_df = filtered_df[filtered_df['ModelNumber'].str.upper() == model_number.upper()]\n",
    "    if stock:\n",
    "        filtered_df = filtered_df[filtered_df['Stock'].str.upper() == stock.upper()]\n",
    "    if vin:\n",
    "        filtered_df = filtered_df[filtered_df['VIN'].str.upper() == vin.upper()]\n",
    "    if certified is not None:  # Certified can be True or False\n",
    "        filtered_df = filtered_df[filtered_df['Certified'] == certified]\n",
    "\n",
    "    return filtered_df\n",
    "\n",
    "# Example usage\n",
    "user_search_results = search_cars(\n",
    "    carsDF,\n",
    "    car_type='Used',\n",
    "    year=2019,\n",
    "    make='Mazda',\n",
    "    model='CX-9'\n",
    ")\n",
    "\n",
    "print(user_search_results[['Make', 'Model', 'Year', 'Certified', 'SellingPrice']])\n"
   ]
  },
  {
   "cell_type": "code",
   "execution_count": 40,
   "metadata": {},
   "outputs": [
    {
     "ename": "NameError",
     "evalue": "name 'requests' is not defined",
     "output_type": "error",
     "traceback": [
      "\u001b[0;31m---------------------------------------------------------------------------\u001b[0m",
      "\u001b[0;31mNameError\u001b[0m                                 Traceback (most recent call last)",
      "Cell \u001b[0;32mIn[40], line 21\u001b[0m\n\u001b[1;32m     19\u001b[0m conversation_id \u001b[38;5;241m=\u001b[39m \u001b[38;5;124m\"\u001b[39m\u001b[38;5;124m001\u001b[39m\u001b[38;5;124m\"\u001b[39m  \u001b[38;5;66;03m# Unique ID to keep track of conversation context\u001b[39;00m\n\u001b[1;32m     20\u001b[0m user_message \u001b[38;5;241m=\u001b[39m \u001b[38;5;124m\"\u001b[39m\u001b[38;5;124mI need an affordable SUV with low mileage.\u001b[39m\u001b[38;5;124m\"\u001b[39m\n\u001b[0;32m---> 21\u001b[0m response \u001b[38;5;241m=\u001b[39m \u001b[43mchat_with_llama2\u001b[49m\u001b[43m(\u001b[49m\u001b[43muser_message\u001b[49m\u001b[43m,\u001b[49m\u001b[43m \u001b[49m\u001b[43mconversation_id\u001b[49m\u001b[43m)\u001b[49m\n\u001b[1;32m     22\u001b[0m \u001b[38;5;28mprint\u001b[39m(response)\n",
      "Cell \u001b[0;32mIn[40], line 10\u001b[0m, in \u001b[0;36mchat_with_llama2\u001b[0;34m(user_message, conversation_id)\u001b[0m\n\u001b[1;32m      3\u001b[0m headers \u001b[38;5;241m=\u001b[39m {\u001b[38;5;124m\"\u001b[39m\u001b[38;5;124mContent-Type\u001b[39m\u001b[38;5;124m\"\u001b[39m: \u001b[38;5;124m\"\u001b[39m\u001b[38;5;124mapplication/json\u001b[39m\u001b[38;5;124m\"\u001b[39m}\n\u001b[1;32m      4\u001b[0m data \u001b[38;5;241m=\u001b[39m {\n\u001b[1;32m      5\u001b[0m     \u001b[38;5;124m\"\u001b[39m\u001b[38;5;124mmodel\u001b[39m\u001b[38;5;124m\"\u001b[39m: \u001b[38;5;124m\"\u001b[39m\u001b[38;5;124mllama2\u001b[39m\u001b[38;5;124m\"\u001b[39m,\n\u001b[1;32m      6\u001b[0m     \u001b[38;5;124m\"\u001b[39m\u001b[38;5;124mmessage\u001b[39m\u001b[38;5;124m\"\u001b[39m: user_message,\n\u001b[1;32m      7\u001b[0m     \u001b[38;5;124m\"\u001b[39m\u001b[38;5;124mconversation_id\u001b[39m\u001b[38;5;124m\"\u001b[39m: conversation_id\n\u001b[1;32m      8\u001b[0m }\n\u001b[0;32m---> 10\u001b[0m response \u001b[38;5;241m=\u001b[39m \u001b[43mrequests\u001b[49m\u001b[38;5;241m.\u001b[39mpost(url, headers\u001b[38;5;241m=\u001b[39mheaders, json\u001b[38;5;241m=\u001b[39mdata)\n\u001b[1;32m     12\u001b[0m \u001b[38;5;28;01mif\u001b[39;00m response\u001b[38;5;241m.\u001b[39mstatus_code \u001b[38;5;241m==\u001b[39m \u001b[38;5;241m200\u001b[39m:\n\u001b[1;32m     13\u001b[0m     response_data \u001b[38;5;241m=\u001b[39m response\u001b[38;5;241m.\u001b[39mjson()\n",
      "\u001b[0;31mNameError\u001b[0m: name 'requests' is not defined"
     ]
    }
   ],
   "source": [
    "def chat_with_llama2(user_message, conversation_id):\n",
    "    url = \"http://localhost:11434/api/chat\"\n",
    "    headers = {\"Content-Type\": \"application/json\"}\n",
    "    data = {\n",
    "        \"model\": \"llama2\",\n",
    "        \"message\": user_message,\n",
    "        \"conversation_id\": conversation_id\n",
    "    }\n",
    "\n",
    "    response = requests.post(url, headers=headers, json=data)\n",
    "\n",
    "    if response.status_code == 200:\n",
    "        response_data = response.json()\n",
    "        return response_data.get('content', \"No response available\")\n",
    "    else:\n",
    "        return f\"Error: {response.status_code} - {response.text}\"\n",
    "\n",
    "# Example usage\n",
    "conversation_id = \"001\"  # Unique ID to keep track of conversation context\n",
    "user_message = \"I need an affordable SUV with low mileage.\"\n",
    "response = chat_with_llama2(user_message, conversation_id)\n",
    "print(response)"
   ]
  }
 ],
 "metadata": {
  "kernelspec": {
   "display_name": "Python 3",
   "language": "python",
   "name": "python3"
  },
  "language_info": {
   "codemirror_mode": {
    "name": "ipython",
    "version": 3
   },
   "file_extension": ".py",
   "mimetype": "text/x-python",
   "name": "python",
   "nbconvert_exporter": "python",
   "pygments_lexer": "ipython3",
   "version": "3.9.6"
  }
 },
 "nbformat": 4,
 "nbformat_minor": 2
}
