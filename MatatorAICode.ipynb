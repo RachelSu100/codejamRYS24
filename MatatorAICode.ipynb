{
 "cells": [
  {
   "cell_type": "code",
   "execution_count": 1,
   "metadata": {},
   "outputs": [
    {
     "name": "stdout",
     "output_type": "stream",
     "text": [
      "\u001b[33mWARNING: You are using pip version 21.2.4; however, version 24.3.1 is available.\n",
      "You should consider upgrading via the '/Library/Developer/CommandLineTools/usr/bin/python3 -m pip install --upgrade pip' command.\u001b[0m\n",
      "Note: you may need to restart the kernel to use updated packages.\n",
      "\u001b[33mWARNING: You are using pip version 21.2.4; however, version 24.3.1 is available.\n",
      "You should consider upgrading via the '/Library/Developer/CommandLineTools/usr/bin/python3 -m pip install --upgrade pip' command.\u001b[0m\n",
      "Note: you may need to restart the kernel to use updated packages.\n",
      "\u001b[33mWARNING: You are using pip version 21.2.4; however, version 24.3.1 is available.\n",
      "You should consider upgrading via the '/Library/Developer/CommandLineTools/usr/bin/python3 -m pip install --upgrade pip' command.\u001b[0m\n",
      "Note: you may need to restart the kernel to use updated packages.\n",
      "\u001b[33mWARNING: You are using pip version 21.2.4; however, version 24.3.1 is available.\n",
      "You should consider upgrading via the '/Library/Developer/CommandLineTools/usr/bin/python3 -m pip install --upgrade pip' command.\u001b[0m\n",
      "Note: you may need to restart the kernel to use updated packages.\n",
      "\u001b[33mWARNING: You are using pip version 21.2.4; however, version 24.3.1 is available.\n",
      "You should consider upgrading via the '/Library/Developer/CommandLineTools/usr/bin/python3 -m pip install --upgrade pip' command.\u001b[0m\n",
      "Note: you may need to restart the kernel to use updated packages.\n",
      "\u001b[33mWARNING: You are using pip version 21.2.4; however, version 24.3.1 is available.\n",
      "You should consider upgrading via the '/Library/Developer/CommandLineTools/usr/bin/python3 -m pip install --upgrade pip' command.\u001b[0m\n",
      "Note: you may need to restart the kernel to use updated packages.\n",
      "\u001b[33mWARNING: You are using pip version 21.2.4; however, version 24.3.1 is available.\n",
      "You should consider upgrading via the '/Library/Developer/CommandLineTools/usr/bin/python3 -m pip install --upgrade pip' command.\u001b[0m\n",
      "Note: you may need to restart the kernel to use updated packages.\n",
      "\u001b[33mWARNING: You are using pip version 21.2.4; however, version 24.3.1 is available.\n",
      "You should consider upgrading via the '/Library/Developer/CommandLineTools/usr/bin/python3 -m pip install --upgrade pip' command.\u001b[0m\n",
      "Note: you may need to restart the kernel to use updated packages.\n",
      "\u001b[33mWARNING: You are using pip version 21.2.4; however, version 24.3.1 is available.\n",
      "You should consider upgrading via the '/Library/Developer/CommandLineTools/usr/bin/python3 -m pip install --upgrade pip' command.\u001b[0m\n",
      "Note: you may need to restart the kernel to use updated packages.\n",
      "\u001b[33mWARNING: You are using pip version 21.2.4; however, version 24.3.1 is available.\n",
      "You should consider upgrading via the '/Library/Developer/CommandLineTools/usr/bin/python3 -m pip install --upgrade pip' command.\u001b[0m\n",
      "Note: you may need to restart the kernel to use updated packages.\n",
      "Requirements installed successfully!\n"
     ]
    }
   ],
   "source": [
    "# requirements \n",
    "%pip install pandas --quiet \n",
    "%pip install flask requests --quiet\n",
    "%pip install ollama --quiet\n",
    "%pip install streamlit streamlit-chat --quiet\n",
    "%pip install langchain --quiet\n",
    "%pip install faiss-cpu --quiet\n",
    "%pip install transformers --quiet\n",
    "%pip install ctransformers --quiet\n",
    "%pip install requests --quiet\n",
    "%pip install -U langchain-community --quiet\n",
    "\n",
    "\n",
    "\n",
    "print(\"Requirements installed successfully!\")\n"
   ]
  },
  {
   "cell_type": "code",
   "execution_count": 2,
   "metadata": {},
   "outputs": [
    {
     "name": "stdout",
     "output_type": "stream",
     "text": [
      "Starting imports...\n"
     ]
    },
    {
     "name": "stderr",
     "output_type": "stream",
     "text": [
      "/Users/rachelsu/Library/Python/3.9/lib/python/site-packages/urllib3/__init__.py:35: NotOpenSSLWarning: urllib3 v2 only supports OpenSSL 1.1.1+, currently the 'ssl' module is compiled with 'LibreSSL 2.8.3'. See: https://github.com/urllib3/urllib3/issues/3020\n",
      "  warnings.warn(\n",
      "2024-11-23 13:00:28.581 WARNING streamlit.runtime.scriptrunner_utils.script_run_context: Thread 'MainThread': missing ScriptRunContext! This warning can be ignored when running in bare mode.\n"
     ]
    },
    {
     "name": "stdout",
     "output_type": "stream",
     "text": [
      "Successfully imported!\n"
     ]
    }
   ],
   "source": [
    "# imports\n",
    "print(\"Starting imports...\")\n",
    "import pandas as pd\n",
    "from flask import Flask, request, jsonify\n",
    "import ollama\n",
    "import json\n",
    "import requests\n",
    "import re\n",
    "import streamlit as st \n",
    "from streamlit_chat import message\n",
    "import tempfile\n",
    "from langchain.document_loaders.csv_loader import CSVLoader\n",
    "from langchain.embeddings import HuggingFaceEmbeddings\n",
    "from langchain.vectorstores import FAISS\n",
    "from langchain.llms import CTransformers\n",
    "from langchain.chains import RetrievalQA\n",
    "from langchain import PromptTemplate\n",
    "\n",
    "print(\"Successfully imported!\")"
   ]
  },
  {
   "cell_type": "code",
   "execution_count": 3,
   "metadata": {},
   "outputs": [],
   "source": [
    "def load_llm():\n",
    "    llm = CTransformers(\n",
    "        model = \"res\\llama-2-7b-chat.ggmlv3.q4_1.bin\",\n",
    "        model_type=\"llama\",\n",
    "        max_new_tokens = 512,\n",
    "        temperature = 0.9\n",
    "    )\n",
    "    return llm\n"
   ]
  },
  {
   "cell_type": "code",
   "execution_count": null,
   "metadata": {},
   "outputs": [],
   "source": [
    "# # Load the dataset into a df\n",
    "# carsDF = pd.read_csv('vehicles.csv')"
   ]
  },
  {
   "cell_type": "code",
   "execution_count": null,
   "metadata": {},
   "outputs": [],
   "source": [
    "# # view dataset \n",
    "# carsDF.head()"
   ]
  },
  {
   "cell_type": "code",
   "execution_count": null,
   "metadata": {},
   "outputs": [],
   "source": [
    "# # Normalize text values to title case for consistency\n",
    "# carsDF['Make'] = carsDF['Make'].str.strip().str.upper()  # Remove extra spaces and convert to uppercase\n",
    "# carsDF['Model'] = carsDF['Model'].str.strip().str.upper()  # Remove extra spaces and convert to uppercase\n"
   ]
  },
  {
   "cell_type": "code",
   "execution_count": null,
   "metadata": {},
   "outputs": [],
   "source": [
    "# # Verify normalization\n",
    "# print(carsDF[['Make', 'Model']])"
   ]
  },
  {
   "cell_type": "code",
   "execution_count": null,
   "metadata": {},
   "outputs": [],
   "source": [
    "# # Data Type Correction\n",
    "# # Convert numerical columns\n",
    "# carsDF['Year'] = carsDF['Year'].astype(int)\n",
    "# carsDF['SellingPrice'] = carsDF['SellingPrice'].astype(float)\n",
    "# carsDF['Doors'] = carsDF['Doors'].astype(int)\n"
   ]
  },
  {
   "cell_type": "code",
   "execution_count": null,
   "metadata": {},
   "outputs": [],
   "source": [
    "# carsDF['PriceRange'] = pd.cut(carsDF['SellingPrice'], \n",
    "#                               bins=[0, 10000, 20000, 30000, 50000, 100000],\n",
    "#                               labels=['Under 10K', '10K-20K', '20K-30K', '30K-50K', 'Above 50K'])\n"
   ]
  },
  {
   "cell_type": "code",
   "execution_count": 5,
   "metadata": {},
   "outputs": [],
   "source": [
    "# Extract preferences from user's message\n",
    "def extract_preferences(message, carsDF):\n",
    "    preferences = {}\n",
    "\n",
    "    if \"new\" in message.lower() or \"used\" in message.lower():\n",
    "        preferences['car_type'] = 'New' if 'new' in message.lower() else 'Used'\n",
    "\n",
    "    if 'year' in message.lower():\n",
    "        year = [int(word) for word in message.split() if word.isdigit() and len(word) == 4]\n",
    "        if year:\n",
    "            preferences['year'] = year[0]\n",
    "\n",
    "    if any(make in message.lower() for make in carsDF['Make'].str.lower().unique()):\n",
    "        preferences['make'] = next(make.title() for make in carsDF['Make'].str.lower().unique() if make in message.lower())\n",
    "\n",
    "    # Extract price range (e.g., \"under $20,000\", \"between $20,000 and $30,000\")\n",
    "    price_under = re.search(r'under\\s*\\$?(\\d{1,3}(?:,\\d{3})*)', message, re.IGNORECASE)\n",
    "    price_between = re.search(r'between\\s*\\$?(\\d{1,3}(?:,\\d{3})*)\\s*and\\s*\\$?(\\d{1,3}(?:,\\d{3})*)', message, re.IGNORECASE)\n",
    "\n",
    "    if price_under:\n",
    "        max_price = int(price_under.group(1).replace(',', ''))\n",
    "        preferences['max_price'] = max_price\n",
    "    elif price_between:\n",
    "        min_price = int(price_between.group(1).replace(',', ''))\n",
    "        max_price = int(price_between.group(2).replace(',', ''))\n",
    "        preferences['min_price'] = min_price\n",
    "        preferences['max_price'] = max_price\n",
    "\n",
    "    # Extract mileage\n",
    "    if \"low mileage\" in message.lower():\n",
    "        preferences['max_miles'] = 50000  # Assume \"low mileage\" means under 50,000 miles\n",
    "    mileage = re.search(r'(\\d{1,3}(?:,\\d{3})*)\\s*miles', message, re.IGNORECASE)\n",
    "    if mileage:\n",
    "        preferences['max_miles'] = int(mileage.group(1).replace(',', ''))\n",
    "\n",
    "    # Extract exterior color preference\n",
    "    colors = carsDF['Ext_Color_Generic'].dropna().apply(str).str.lower().unique()\n",
    "    for color in colors:\n",
    "        if color in message.lower():\n",
    "            preferences['exterior_color'] = color.title()\n",
    "            break\n",
    "\n",
    "    # Extract drivetrain preference\n",
    "    drivetrains = ['AWD', 'FWD', 'RWD', '4WD']\n",
    "    for drivetrain in drivetrains:\n",
    "        if drivetrain.lower() in message.lower():\n",
    "            preferences['drivetrain'] = drivetrain.upper()\n",
    "            break\n",
    "\n",
    "    return preferences"
   ]
  },
  {
   "cell_type": "code",
   "execution_count": 6,
   "metadata": {},
   "outputs": [],
   "source": [
    "# Function to get matching cars based on preferences\n",
    "def get_matching_cars(preferences, carsDF):\n",
    "    filtered_cars = carsDF\n",
    "\n",
    "    # Apply each preference as a filter\n",
    "    if 'car_type' in preferences:\n",
    "        filtered_cars = filtered_cars[filtered_cars['Type'].str.lower() == preferences['car_type'].lower()]\n",
    "\n",
    "    if 'year' in preferences:\n",
    "        filtered_cars = filtered_cars[filtered_cars['Year'] == preferences['year']]\n",
    "\n",
    "    if 'make' in preferences:\n",
    "        filtered_cars = filtered_cars[filtered_cars['Make'].str.upper() == preferences['make'].upper()]\n",
    "\n",
    "    if 'min_price' in preferences and 'max_price' in preferences:\n",
    "        filtered_cars = filtered_cars[\n",
    "            (filtered_cars['SellingPrice'] >= preferences['min_price']) & \n",
    "            (filtered_cars['SellingPrice'] <= preferences['max_price'])\n",
    "        ]\n",
    "    elif 'max_price' in preferences:\n",
    "        filtered_cars = filtered_cars[filtered_cars['SellingPrice'] <= preferences['max_price']]\n",
    "\n",
    "    if 'max_miles' in preferences:\n",
    "        filtered_cars = filtered_cars[filtered_cars['Miles'] <= preferences['max_miles']]\n",
    "\n",
    "    if 'exterior_color' in preferences:\n",
    "        filtered_cars = filtered_cars[filtered_cars['Ext_Color_Generic'].str.lower() == preferences['exterior_color'].lower()]\n",
    "\n",
    "    if 'drivetrain' in preferences:\n",
    "        filtered_cars = filtered_cars[filtered_cars['Drivetrain'].str.upper() == preferences['drivetrain'].upper()]\n",
    "\n",
    "    # Return the top 3 matching cars\n",
    "    if not filtered_cars.empty:\n",
    "        return filtered_cars[['Make', 'Model', 'Year', 'VIN', 'SellingPrice']].head(3)\n",
    "    else:\n",
    "        return None\n"
   ]
  },
  {
   "cell_type": "code",
   "execution_count": 7,
   "metadata": {},
   "outputs": [
    {
     "name": "stderr",
     "output_type": "stream",
     "text": [
      "2024-11-23 13:01:01.391 WARNING streamlit.runtime.scriptrunner_utils.script_run_context: Thread 'MainThread': missing ScriptRunContext! This warning can be ignored when running in bare mode.\n",
      "2024-11-23 13:01:01.454 \n",
      "  \u001b[33m\u001b[1mWarning:\u001b[0m to view this Streamlit app on a browser, run it with the following\n",
      "  command:\n",
      "\n",
      "    streamlit run /Users/rachelsu/Library/Python/3.9/lib/python/site-packages/ipykernel_launcher.py [ARGUMENTS]\n",
      "2024-11-23 13:01:01.454 Thread 'MainThread': missing ScriptRunContext! This warning can be ignored when running in bare mode.\n"
     ]
    },
    {
     "data": {
      "text/plain": [
       "DeltaGenerator()"
      ]
     },
     "execution_count": 7,
     "metadata": {},
     "output_type": "execute_result"
    }
   ],
   "source": [
    "# Streamlit UI\n",
    "st.title(\"Matador Car Match Chatbot\")"
   ]
  },
  {
   "cell_type": "code",
   "execution_count": 8,
   "metadata": {},
   "outputs": [
    {
     "name": "stderr",
     "output_type": "stream",
     "text": [
      "2024-11-23 13:01:04.533 Thread 'MainThread': missing ScriptRunContext! This warning can be ignored when running in bare mode.\n",
      "2024-11-23 13:01:04.534 Thread 'MainThread': missing ScriptRunContext! This warning can be ignored when running in bare mode.\n",
      "2024-11-23 13:01:04.534 Thread 'MainThread': missing ScriptRunContext! This warning can be ignored when running in bare mode.\n",
      "2024-11-23 13:01:04.535 Thread 'MainThread': missing ScriptRunContext! This warning can be ignored when running in bare mode.\n",
      "2024-11-23 13:01:04.536 Thread 'MainThread': missing ScriptRunContext! This warning can be ignored when running in bare mode.\n"
     ]
    }
   ],
   "source": [
    "# Sidebar for CSV file upload\n",
    "csv_data = st.sidebar.file_uploader(\"vehicles.csv\", type=\"csv\")"
   ]
  },
  {
   "cell_type": "code",
   "execution_count": 9,
   "metadata": {},
   "outputs": [],
   "source": [
    "if csv_data is not None:\n",
    "    # Handle uploaded CSV file with temporary file\n",
    "    with tempfile.NamedTemporaryFile(delete=False, suffix=\".csv\") as tmp_file:\n",
    "        tmp_file.write(csv_data.getvalue())\n",
    "        tmp_file_path = tmp_file.name\n",
    "\n",
    "    # Load CSV data using pandas directly\n",
    "    carsDF = pd.read_csv(tmp_file_path)\n",
    "\n",
    "    # Load LLM\n",
    "    llm = load_llm()\n",
    "\n",
    "    # Chat UI\n",
    "    if 'user' not in st.session_state:\n",
    "        st.session_state['user'] = [\"Hey there\"]\n",
    "\n",
    "    if 'assistant' not in st.session_state:\n",
    "        st.session_state['assistant'] = [\"Hello, I am Matador Chatbot! How can I help you find your car today?\"]\n",
    "\n",
    "    container = st.container()\n",
    "\n",
    "    with container:\n",
    "        with st.form(key='car_form', clear_on_submit=True):\n",
    "            user_input = st.text_input(\"\", placeholder=\"Enter your car preferences...\", key='input')\n",
    "            submit = st.form_submit_button(label='Submit')\n",
    "\n",
    "        if submit:\n",
    "            # Append user message\n",
    "            st.session_state['user'].append(user_input)\n",
    "\n",
    "            # Extract preferences and find matching cars\n",
    "            preferences = extract_preferences(user_input, carsDF)\n",
    "            matching_cars = get_matching_cars(preferences, carsDF)\n",
    "\n",
    "            # LLM response\n",
    "            if matching_cars is not None:\n",
    "                llm_response = f\"Here are the top 3 cars that match your preferences:\\n\\n{matching_cars.to_string(index=False)}\"\n",
    "            else:\n",
    "                llm_response = \"I couldn't find any cars matching your preferences. Could you refine your criteria?\"\n",
    "\n",
    "            st.session_state['assistant'].append(llm_response)\n",
    "\n",
    "    # Display chat messages\n",
    "    if st.session_state['assistant']:\n",
    "        for i in range(len(st.session_state['assistant'])):\n",
    "            message(st.session_state[\"user\"][i], is_user=True, key=str(i) + '_user')\n",
    "            message(st.session_state[\"assistant\"][i], key=str(i))        "
   ]
  },
  {
   "cell_type": "code",
   "execution_count": null,
   "metadata": {},
   "outputs": [],
   "source": [
    "# # Sample message to test the get_matching_cars function\n",
    "# #test_message = \"I'm looking for a used car from 2019, preferably under $30,000 with low mileage.\"\n",
    "# test_message = \"I'm looking for a 2014 Honda with high mileage.\"\n",
    "\n",
    "# # Get matching cars\n",
    "# matching_cars = get_matching_cars(test_message)\n",
    "\n",
    "# # Display the result\n",
    "# if matching_cars is not None:\n",
    "#     print(\"Matching Cars:\")\n",
    "#     print(matching_cars)\n",
    "# else:\n",
    "#     print(\"No cars match the specified preferences.\")\n",
    "\n"
   ]
  }
 ],
 "metadata": {
  "kernelspec": {
   "display_name": "Python 3",
   "language": "python",
   "name": "python3"
  },
  "language_info": {
   "codemirror_mode": {
    "name": "ipython",
    "version": 3
   },
   "file_extension": ".py",
   "mimetype": "text/x-python",
   "name": "python",
   "nbconvert_exporter": "python",
   "pygments_lexer": "ipython3",
   "version": "3.9.6"
  }
 },
 "nbformat": 4,
 "nbformat_minor": 2
}
