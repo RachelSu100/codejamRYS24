{
 "cells": [
  {
   "cell_type": "code",
   "execution_count": 2,
   "metadata": {},
   "outputs": [
    {
     "name": "stdout",
     "output_type": "stream",
     "text": [
      "\u001b[33mWARNING: You are using pip version 21.2.4; however, version 24.3.1 is available.\n",
      "You should consider upgrading via the '/Library/Developer/CommandLineTools/usr/bin/python3 -m pip install --upgrade pip' command.\u001b[0m\n",
      "Note: you may need to restart the kernel to use updated packages.\n"
     ]
    }
   ],
   "source": [
    "# requirements \n",
    "%pip install pandas --quiet \n"
   ]
  },
  {
   "cell_type": "code",
   "execution_count": 3,
   "metadata": {},
   "outputs": [
    {
     "name": "stdout",
     "output_type": "stream",
     "text": [
      "Starting imports...\n",
      "Successfully imported!\n"
     ]
    }
   ],
   "source": [
    "# imports\n",
    "print(\"Starting imports...\")\n",
    "import pandas as pd\n",
    "\n",
    "\n",
    "print(\"Successfully imported!\")"
   ]
  },
  {
   "cell_type": "code",
   "execution_count": 15,
   "metadata": {},
   "outputs": [],
   "source": [
    "# Load the dataset into a df\n",
    "carsDF = pd.read_csv('vehicles.csv')"
   ]
  },
  {
   "cell_type": "code",
   "execution_count": 16,
   "metadata": {},
   "outputs": [
    {
     "data": {
      "text/html": [
       "<div>\n",
       "<style scoped>\n",
       "    .dataframe tbody tr th:only-of-type {\n",
       "        vertical-align: middle;\n",
       "    }\n",
       "\n",
       "    .dataframe tbody tr th {\n",
       "        vertical-align: top;\n",
       "    }\n",
       "\n",
       "    .dataframe thead th {\n",
       "        text-align: right;\n",
       "    }\n",
       "</style>\n",
       "<table border=\"1\" class=\"dataframe\">\n",
       "  <thead>\n",
       "    <tr style=\"text-align: right;\">\n",
       "      <th></th>\n",
       "      <th>Type</th>\n",
       "      <th>Stock</th>\n",
       "      <th>VIN</th>\n",
       "      <th>Year</th>\n",
       "      <th>Make</th>\n",
       "      <th>Model</th>\n",
       "      <th>Body</th>\n",
       "      <th>ModelNumber</th>\n",
       "      <th>Doors</th>\n",
       "      <th>ExteriorColor</th>\n",
       "      <th>...</th>\n",
       "      <th>CityMPG</th>\n",
       "      <th>HighwayMPG</th>\n",
       "      <th>EPAClassification</th>\n",
       "      <th>Wheelbase_Code</th>\n",
       "      <th>Internet_Price</th>\n",
       "      <th>MarketClass</th>\n",
       "      <th>PassengerCapacity</th>\n",
       "      <th>ExtColorHexCode</th>\n",
       "      <th>IntColorHexCode</th>\n",
       "      <th>EngineDisplacementCubicInches</th>\n",
       "    </tr>\n",
       "  </thead>\n",
       "  <tbody>\n",
       "    <tr>\n",
       "      <th>0</th>\n",
       "      <td>Used</td>\n",
       "      <td>T237890</td>\n",
       "      <td>A9FGFF8ST43CEFJ3Y</td>\n",
       "      <td>2019</td>\n",
       "      <td>Mazda</td>\n",
       "      <td>CX-9</td>\n",
       "      <td>Sport Utility</td>\n",
       "      <td>MACX-VF899A</td>\n",
       "      <td>4</td>\n",
       "      <td>Snowflake White Pearl Mica</td>\n",
       "      <td>...</td>\n",
       "      <td>20.0</td>\n",
       "      <td>26.0</td>\n",
       "      <td>Small SUV 4WD</td>\n",
       "      <td>115.3</td>\n",
       "      <td>0</td>\n",
       "      <td>4WD Sport Utility Vehicles</td>\n",
       "      <td>7</td>\n",
       "      <td>E7E8E8</td>\n",
       "      <td>NaN</td>\n",
       "      <td>152.0</td>\n",
       "    </tr>\n",
       "    <tr>\n",
       "      <th>1</th>\n",
       "      <td>Used</td>\n",
       "      <td>C120321</td>\n",
       "      <td>3RCKVP1GRJK1F6A8A</td>\n",
       "      <td>2024</td>\n",
       "      <td>Maserati</td>\n",
       "      <td>Levante</td>\n",
       "      <td>Sport Utility</td>\n",
       "      <td>MALE-SN743K</td>\n",
       "      <td>4</td>\n",
       "      <td>Bianco</td>\n",
       "      <td>...</td>\n",
       "      <td>16.0</td>\n",
       "      <td>22.0</td>\n",
       "      <td>Standard SUV 4WD</td>\n",
       "      <td>118.3</td>\n",
       "      <td>0</td>\n",
       "      <td>4WD Sport Utility Vehicles</td>\n",
       "      <td>5</td>\n",
       "      <td>NaN</td>\n",
       "      <td>NaN</td>\n",
       "      <td>182.0</td>\n",
       "    </tr>\n",
       "    <tr>\n",
       "      <th>2</th>\n",
       "      <td>Used</td>\n",
       "      <td>K666069</td>\n",
       "      <td>1W2XUCYU7BR72MDJR</td>\n",
       "      <td>2019</td>\n",
       "      <td>Volkswagen</td>\n",
       "      <td>Tiguan</td>\n",
       "      <td>Sport Utility</td>\n",
       "      <td>VOTI-UG651L</td>\n",
       "      <td>4</td>\n",
       "      <td>Platinum Gray Metallic</td>\n",
       "      <td>...</td>\n",
       "      <td>22.0</td>\n",
       "      <td>29.0</td>\n",
       "      <td>Small SUV 2WD</td>\n",
       "      <td>109.8</td>\n",
       "      <td>0</td>\n",
       "      <td>2WD Sport Utility Vehicles</td>\n",
       "      <td>7</td>\n",
       "      <td>NaN</td>\n",
       "      <td>NaN</td>\n",
       "      <td>121.0</td>\n",
       "    </tr>\n",
       "    <tr>\n",
       "      <th>3</th>\n",
       "      <td>Used</td>\n",
       "      <td>U309999</td>\n",
       "      <td>LDTMAMFH0Y2B3YXM1</td>\n",
       "      <td>2022</td>\n",
       "      <td>INFINITI</td>\n",
       "      <td>Q50</td>\n",
       "      <td>4dr Car</td>\n",
       "      <td>INQ5-CH685U</td>\n",
       "      <td>4</td>\n",
       "      <td>Midnight Black</td>\n",
       "      <td>...</td>\n",
       "      <td>20.0</td>\n",
       "      <td>26.0</td>\n",
       "      <td>Midsize Cars</td>\n",
       "      <td>112.2</td>\n",
       "      <td>0</td>\n",
       "      <td>4-door Mid-Size Passenger Car</td>\n",
       "      <td>5</td>\n",
       "      <td>08090B</td>\n",
       "      <td>NaN</td>\n",
       "      <td>183.0</td>\n",
       "    </tr>\n",
       "    <tr>\n",
       "      <th>4</th>\n",
       "      <td>Used</td>\n",
       "      <td>K436038</td>\n",
       "      <td>M4A5XPBCYH2HH2NXT</td>\n",
       "      <td>2019</td>\n",
       "      <td>Hyundai</td>\n",
       "      <td>Elantra</td>\n",
       "      <td>4dr Car</td>\n",
       "      <td>HYEL-AS987K</td>\n",
       "      <td>4</td>\n",
       "      <td>Symphony Silver</td>\n",
       "      <td>...</td>\n",
       "      <td>28.0</td>\n",
       "      <td>37.0</td>\n",
       "      <td>Midsize Cars</td>\n",
       "      <td>106.3</td>\n",
       "      <td>0</td>\n",
       "      <td>4-door Mid-Size Passenger Car</td>\n",
       "      <td>5</td>\n",
       "      <td>ADADB0</td>\n",
       "      <td>NaN</td>\n",
       "      <td>122.0</td>\n",
       "    </tr>\n",
       "  </tbody>\n",
       "</table>\n",
       "<p>5 rows × 44 columns</p>\n",
       "</div>"
      ],
      "text/plain": [
       "   Type    Stock                VIN  Year        Make    Model           Body  \\\n",
       "0  Used  T237890  A9FGFF8ST43CEFJ3Y  2019       Mazda     CX-9  Sport Utility   \n",
       "1  Used  C120321  3RCKVP1GRJK1F6A8A  2024    Maserati  Levante  Sport Utility   \n",
       "2  Used  K666069  1W2XUCYU7BR72MDJR  2019  Volkswagen   Tiguan  Sport Utility   \n",
       "3  Used  U309999  LDTMAMFH0Y2B3YXM1  2022    INFINITI      Q50        4dr Car   \n",
       "4  Used  K436038  M4A5XPBCYH2HH2NXT  2019     Hyundai  Elantra        4dr Car   \n",
       "\n",
       "   ModelNumber  Doors               ExteriorColor  ... CityMPG  HighwayMPG  \\\n",
       "0  MACX-VF899A      4  Snowflake White Pearl Mica  ...    20.0        26.0   \n",
       "1  MALE-SN743K      4                      Bianco  ...    16.0        22.0   \n",
       "2  VOTI-UG651L      4      Platinum Gray Metallic  ...    22.0        29.0   \n",
       "3  INQ5-CH685U      4              Midnight Black  ...    20.0        26.0   \n",
       "4  HYEL-AS987K      4             Symphony Silver  ...    28.0        37.0   \n",
       "\n",
       "  EPAClassification Wheelbase_Code  Internet_Price  \\\n",
       "0     Small SUV 4WD          115.3               0   \n",
       "1  Standard SUV 4WD          118.3               0   \n",
       "2     Small SUV 2WD          109.8               0   \n",
       "3      Midsize Cars          112.2               0   \n",
       "4      Midsize Cars          106.3               0   \n",
       "\n",
       "                     MarketClass  PassengerCapacity  ExtColorHexCode  \\\n",
       "0     4WD Sport Utility Vehicles                  7           E7E8E8   \n",
       "1     4WD Sport Utility Vehicles                  5              NaN   \n",
       "2     2WD Sport Utility Vehicles                  7              NaN   \n",
       "3  4-door Mid-Size Passenger Car                  5           08090B   \n",
       "4  4-door Mid-Size Passenger Car                  5           ADADB0   \n",
       "\n",
       "   IntColorHexCode  EngineDisplacementCubicInches  \n",
       "0              NaN                          152.0  \n",
       "1              NaN                          182.0  \n",
       "2              NaN                          121.0  \n",
       "3              NaN                          183.0  \n",
       "4              NaN                          122.0  \n",
       "\n",
       "[5 rows x 44 columns]"
      ]
     },
     "execution_count": 16,
     "metadata": {},
     "output_type": "execute_result"
    }
   ],
   "source": [
    "# view dataset \n",
    "carsDF.head()"
   ]
  },
  {
   "cell_type": "markdown",
   "metadata": {},
   "source": [
    "Data Cleaning and Preprocessing "
   ]
  },
  {
   "cell_type": "code",
   "execution_count": 17,
   "metadata": {},
   "outputs": [],
   "source": [
    "# Normalize text values to title case for consistency\n",
    "carsDF['Make'] = carsDF['Make'].str.strip().str.upper()  # Remove extra spaces and convert to uppercase\n",
    "carsDF['Model'] = carsDF['Model'].str.strip().str.upper()  # Remove extra spaces and convert to uppercase\n"
   ]
  },
  {
   "cell_type": "code",
   "execution_count": 19,
   "metadata": {},
   "outputs": [
    {
     "name": "stdout",
     "output_type": "stream",
     "text": [
      "            Make       Model\n",
      "0          MAZDA        CX-9\n",
      "1       MASERATI     LEVANTE\n",
      "2     VOLKSWAGEN      TIGUAN\n",
      "3       INFINITI         Q50\n",
      "4        HYUNDAI     ELANTRA\n",
      "...          ...         ...\n",
      "2225      TOYOTA     COROLLA\n",
      "2226       DODGE     DURANGO\n",
      "2227  ALFA ROMEO      GIULIA\n",
      "2228      NISSAN      SENTRA\n",
      "2229      TOYOTA  TACOMA 2WD\n",
      "\n",
      "[2230 rows x 2 columns]\n"
     ]
    }
   ],
   "source": [
    "# Verify normalization\n",
    "print(carsDF[['Make', 'Model']])"
   ]
  },
  {
   "cell_type": "code",
   "execution_count": 20,
   "metadata": {},
   "outputs": [],
   "source": [
    "# Data Type Correction\n",
    "# Convert numerical columns\n",
    "carsDF['Year'] = carsDF['Year'].astype(int)\n",
    "carsDF['SellingPrice'] = carsDF['SellingPrice'].astype(float)\n",
    "carsDF['Doors'] = carsDF['Doors'].astype(int)\n"
   ]
  },
  {
   "cell_type": "code",
   "execution_count": 21,
   "metadata": {},
   "outputs": [],
   "source": [
    "carsDF['PriceRange'] = pd.cut(carsDF['SellingPrice'], \n",
    "                              bins=[0, 10000, 20000, 30000, 50000, 100000],\n",
    "                              labels=['Under 10K', '10K-20K', '20K-30K', '30K-50K', 'Above 50K'])\n"
   ]
  }
 ],
 "metadata": {
  "kernelspec": {
   "display_name": "Python 3",
   "language": "python",
   "name": "python3"
  },
  "language_info": {
   "codemirror_mode": {
    "name": "ipython",
    "version": 3
   },
   "file_extension": ".py",
   "mimetype": "text/x-python",
   "name": "python",
   "nbconvert_exporter": "python",
   "pygments_lexer": "ipython3",
   "version": "3.9.6"
  }
 },
 "nbformat": 4,
 "nbformat_minor": 2
}
