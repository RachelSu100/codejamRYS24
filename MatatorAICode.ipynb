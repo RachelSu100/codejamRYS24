{
 "cells": [
  {
   "cell_type": "code",
   "execution_count": 80,
   "metadata": {},
   "outputs": [
    {
     "name": "stdout",
     "output_type": "stream",
     "text": [
      "\u001b[33mWARNING: You are using pip version 21.2.4; however, version 24.3.1 is available.\n",
      "You should consider upgrading via the '/Library/Developer/CommandLineTools/usr/bin/python3 -m pip install --upgrade pip' command.\u001b[0m\n",
      "Note: you may need to restart the kernel to use updated packages.\n",
      "\u001b[33mWARNING: You are using pip version 21.2.4; however, version 24.3.1 is available.\n",
      "You should consider upgrading via the '/Library/Developer/CommandLineTools/usr/bin/python3 -m pip install --upgrade pip' command.\u001b[0m\n",
      "Note: you may need to restart the kernel to use updated packages.\n",
      "\u001b[33mWARNING: You are using pip version 21.2.4; however, version 24.3.1 is available.\n",
      "You should consider upgrading via the '/Library/Developer/CommandLineTools/usr/bin/python3 -m pip install --upgrade pip' command.\u001b[0m\n",
      "Note: you may need to restart the kernel to use updated packages.\n",
      "Requirements installed successfully!\n"
     ]
    }
   ],
   "source": [
    "# requirements \n",
    "%pip install pandas --quiet \n",
    "%pip install flask requests --quiet\n",
    "%pip install ollama --quiet\n",
    "\n",
    "print(\"Requirements installed successfully!\")\n"
   ]
  },
  {
   "cell_type": "code",
   "execution_count": 81,
   "metadata": {},
   "outputs": [
    {
     "name": "stdout",
     "output_type": "stream",
     "text": [
      "Starting imports...\n",
      "Successfully imported!\n"
     ]
    }
   ],
   "source": [
    "# imports\n",
    "print(\"Starting imports...\")\n",
    "import pandas as pd\n",
    "from flask import Flask, request, jsonify\n",
    "import ollama\n",
    "import json\n",
    "import requests\n",
    "import re\n",
    "\n",
    "print(\"Successfully imported!\")"
   ]
  },
  {
   "cell_type": "code",
   "execution_count": 82,
   "metadata": {},
   "outputs": [],
   "source": [
    "# Load the dataset into a df\n",
    "carsDF = pd.read_csv('vehicles.csv')"
   ]
  },
  {
   "cell_type": "code",
   "execution_count": 83,
   "metadata": {},
   "outputs": [],
   "source": [
    "# # view dataset \n",
    "# carsDF.head()"
   ]
  },
  {
   "cell_type": "markdown",
   "metadata": {},
   "source": [
    "Data Cleaning and Preprocessing "
   ]
  },
  {
   "cell_type": "code",
   "execution_count": 84,
   "metadata": {},
   "outputs": [],
   "source": [
    "# Normalize text values to title case for consistency\n",
    "carsDF['Make'] = carsDF['Make'].str.strip().str.upper()  # Remove extra spaces and convert to uppercase\n",
    "carsDF['Model'] = carsDF['Model'].str.strip().str.upper()  # Remove extra spaces and convert to uppercase\n"
   ]
  },
  {
   "cell_type": "code",
   "execution_count": 85,
   "metadata": {},
   "outputs": [],
   "source": [
    "# # Verify normalization\n",
    "# print(carsDF[['Make', 'Model']])"
   ]
  },
  {
   "cell_type": "code",
   "execution_count": 86,
   "metadata": {},
   "outputs": [],
   "source": [
    "# Data Type Correction\n",
    "# Convert numerical columns\n",
    "carsDF['Year'] = carsDF['Year'].astype(int)\n",
    "carsDF['SellingPrice'] = carsDF['SellingPrice'].astype(float)\n",
    "carsDF['Doors'] = carsDF['Doors'].astype(int)\n"
   ]
  },
  {
   "cell_type": "code",
   "execution_count": 87,
   "metadata": {},
   "outputs": [],
   "source": [
    "carsDF['PriceRange'] = pd.cut(carsDF['SellingPrice'], \n",
    "                              bins=[0, 10000, 20000, 30000, 50000, 100000],\n",
    "                              labels=['Under 10K', '10K-20K', '20K-30K', '30K-50K', 'Above 50K'])\n"
   ]
  },
  {
   "cell_type": "code",
   "execution_count": 97,
   "metadata": {},
   "outputs": [],
   "source": [
    "def extract_preferences(message):\n",
    "    \"\"\"\n",
    "    Function to extract user preferences from a message.\n",
    "    Arguments:\n",
    "    - message: User's message as a string.\n",
    "\n",
    "    Returns:\n",
    "    - preferences: A dictionary with extracted preferences.\n",
    "    \"\"\"\n",
    "    preferences = {}\n",
    "\n",
    "    if \"new\" in message.lower() or \"used\" in message.lower():\n",
    "        preferences['car_type'] = 'New' if 'new' in message.lower() else 'Used'\n",
    "    \n",
    "    if 'year' in message.lower():\n",
    "        year = [int(word) for word in message.split() if word.isdigit() and len(word) == 4]\n",
    "        if year:\n",
    "            preferences['year'] = year[0]\n",
    "\n",
    "    if any(make in message.lower() for make in carsDF['Make'].str.lower().unique()):\n",
    "        preferences['make'] = next(make.title() for make in carsDF['Make'].str.lower().unique() if make in message.lower())\n",
    "\n",
    "    # Extract price range (e.g., \"under $20,000\", \"between $20,000 and $30,000\")\n",
    "    price_under = re.search(r'under\\s*\\$?(\\d{1,3}(?:,\\d{3})*)', message, re.IGNORECASE)\n",
    "    price_between = re.search(r'between\\s*\\$?(\\d{1,3}(?:,\\d{3})*)\\s*and\\s*\\$?(\\d{1,3}(?:,\\d{3})*)', message, re.IGNORECASE)\n",
    "    \n",
    "    if price_under:\n",
    "        max_price = int(price_under.group(1).replace(',', ''))\n",
    "        preferences['max_price'] = max_price\n",
    "    elif price_between:\n",
    "        min_price = int(price_between.group(1).replace(',', ''))\n",
    "        max_price = int(price_between.group(2).replace(',', ''))\n",
    "        preferences['min_price'] = min_price\n",
    "        preferences['max_price'] = max_price\n",
    "\n",
    "    # Extract mileage (e.g., \"low mileage\" or \"<50,000 miles\")\n",
    "    if \"low mileage\" in message.lower():\n",
    "        preferences['max_miles'] = 50000  # Assume \"low mileage\" means under 50,000 miles\n",
    "    mileage = re.search(r'(\\d{1,3}(?:,\\d{3})*)\\s*miles', message, re.IGNORECASE)\n",
    "    if mileage:\n",
    "        preferences['max_miles'] = int(mileage.group(1).replace(',', ''))\n",
    "\n",
    "    # Extract exterior color preference\n",
    "    colors = carsDF['Ext_Color_Generic'].dropna().apply(str).str.lower().unique()\n",
    "    for color in colors:\n",
    "        if color in message.lower():\n",
    "            preferences['exterior_color'] = color.title()\n",
    "            break\n",
    "\n",
    "    # Extract drivetrain preference (e.g., AWD, FWD, RWD)\n",
    "    drivetrains = ['AWD', 'FWD', 'RWD', '4WD']\n",
    "    for drivetrain in drivetrains:\n",
    "        if drivetrain.lower() in message.lower():\n",
    "            preferences['drivetrain'] = drivetrain.upper()\n",
    "            break\n",
    "    \n",
    "\n",
    "    return preferences\n"
   ]
  },
  {
   "cell_type": "code",
   "execution_count": 107,
   "metadata": {},
   "outputs": [],
   "source": [
    "def get_matching_cars(message):\n",
    "    \"\"\"\n",
    "    Function to extract user preferences from a message and return matching cars from the dataset.\n",
    "    \n",
    "    Arguments:\n",
    "    - message: User's message as a string.\n",
    "    \n",
    "    Returns:\n",
    "    - matching_cars: A DataFrame with cars that match user preferences.\n",
    "    \"\"\"\n",
    "    # Extract preferences using the existing function\n",
    "    preferences = extract_preferences(message)\n",
    "    \n",
    "    # Filter the dataset based on preferences\n",
    "    filtered_cars = carsDF\n",
    "    \n",
    "    # Apply each preference as a filter\n",
    "    if 'car_type' in preferences:\n",
    "        if preferences['car_type'] == 'New':\n",
    "            filtered_cars = filtered_cars[filtered_cars['Type'] == 'New']\n",
    "        elif preferences['car_type'] == 'Used':\n",
    "            filtered_cars = filtered_cars[filtered_cars['Type'] == 'Used']\n",
    "    \n",
    "    if 'year' in preferences:\n",
    "        filtered_cars = filtered_cars[filtered_cars['Year'] == preferences['year']]\n",
    "    \n",
    "    if 'make' in preferences:\n",
    "        filtered_cars = filtered_cars[filtered_cars['Make'].str.upper() == preferences['make'].upper()]\n",
    "    \n",
    "    if 'min_price' in preferences and 'max_price' in preferences:\n",
    "        filtered_cars = filtered_cars[\n",
    "            (filtered_cars['SellingPrice'] >= preferences['min_price']) & \n",
    "            (filtered_cars['SellingPrice'] <= preferences['max_price'])\n",
    "        ]\n",
    "    elif 'max_price' in preferences:\n",
    "        filtered_cars = filtered_cars[filtered_cars['SellingPrice'] <= preferences['max_price']]\n",
    "    \n",
    "    if 'max_miles' in preferences:\n",
    "        filtered_cars = filtered_cars[filtered_cars['Miles'] <= preferences['max_miles']]\n",
    "    \n",
    "    if 'exterior_color' in preferences:\n",
    "        filtered_cars = filtered_cars[filtered_cars['Ext_Color_Generic'].str.lower() == preferences['exterior_color'].lower()]\n",
    "    \n",
    "    if 'drivetrain' in preferences:\n",
    "        filtered_cars = filtered_cars[filtered_cars['Drivetrain'].str.upper() == preferences['drivetrain'].upper()]\n",
    "    \n",
    "    # Return the filtered dataset with relevant columns\n",
    "    if not filtered_cars.empty:\n",
    "        return filtered_cars[['Type', 'Stock', 'VIN', 'Year', 'Make', 'Model', 'Body', 'ModelNumber',\n",
    "       'Doors', 'ExteriorColor', 'InteriorColor', 'EngineCylinders',\n",
    "       'EngineDisplacement', 'Transmission', 'Miles', 'SellingPrice', 'MSRP',\n",
    "       'BookValue', 'Invoice', 'Certified', 'Options', 'Style_Description',\n",
    "       'Ext_Color_Generic', 'Ext_Color_Code', 'Int_Color_Generic',\n",
    "       'Int_Color_Code', 'Int_Upholstery', 'Engine_Block_Type',\n",
    "       'Engine_Aspiration_Type', 'Engine_Description', 'Transmission_Speed',\n",
    "       'Transmission_Description', 'Drivetrain', 'Fuel_Type', 'CityMPG',\n",
    "       'HighwayMPG', 'EPAClassification', 'Wheelbase_Code', 'Internet_Price',\n",
    "       'MarketClass', 'PassengerCapacity', 'ExtColorHexCode',\n",
    "       'IntColorHexCode', 'EngineDisplacementCubicInches', 'PriceRange']].head(5)  # Returning top 10 matches for brevity\n",
    "    else:\n",
    "        return None\n"
   ]
  },
  {
   "cell_type": "code",
   "execution_count": 102,
   "metadata": {},
   "outputs": [
    {
     "name": "stdout",
     "output_type": "stream",
     "text": [
      "Index(['Type', 'Stock', 'VIN', 'Year', 'Make', 'Model', 'Body', 'ModelNumber',\n",
      "       'Doors', 'ExteriorColor', 'InteriorColor', 'EngineCylinders',\n",
      "       'EngineDisplacement', 'Transmission', 'Miles', 'SellingPrice', 'MSRP',\n",
      "       'BookValue', 'Invoice', 'Certified', 'Options', 'Style_Description',\n",
      "       'Ext_Color_Generic', 'Ext_Color_Code', 'Int_Color_Generic',\n",
      "       'Int_Color_Code', 'Int_Upholstery', 'Engine_Block_Type',\n",
      "       'Engine_Aspiration_Type', 'Engine_Description', 'Transmission_Speed',\n",
      "       'Transmission_Description', 'Drivetrain', 'Fuel_Type', 'CityMPG',\n",
      "       'HighwayMPG', 'EPAClassification', 'Wheelbase_Code', 'Internet_Price',\n",
      "       'MarketClass', 'PassengerCapacity', 'ExtColorHexCode',\n",
      "       'IntColorHexCode', 'EngineDisplacementCubicInches', 'PriceRange'],\n",
      "      dtype='object')\n"
     ]
    }
   ],
   "source": [
    "print(carsDF.columns)\n"
   ]
  },
  {
   "cell_type": "code",
   "execution_count": 112,
   "metadata": {},
   "outputs": [
    {
     "name": "stdout",
     "output_type": "stream",
     "text": [
      "Matching Cars:\n",
      "    Type    Stock                VIN  Year   Make            Model  \\\n",
      "8    New  H254838  5CTG8SJWZC5HKDNLB  2018  HONDA             HR-V   \n",
      "28   New  T965130  Z8JS24DT5ZT69T5R5  2023  HONDA            CIVIC   \n",
      "34  Used  H108383  CMW5BPVEUF98K6H8D  2014  HONDA           ACCORD   \n",
      "35  Used  P541001  2UJ6TY3LFP3222GJP  2024  HONDA  CIVIC HATCHBACK   \n",
      "39  Used  F884425  VRB2D001UP7F84Z4H  2024  HONDA  CIVIC HATCHBACK   \n",
      "\n",
      "             Body  ModelNumber  Doors              ExteriorColor  ...  \\\n",
      "8   Sport Utility  HOHR-VH558X      4      Lunar Silver Metallic  ...   \n",
      "28        4dr Car  HOCI-ML043L      4                 Rallye Red  ...   \n",
      "34        4dr Car  HOAC-FD381Y      4  Alabaster Silver Metallic  ...   \n",
      "35      Hatchback  HOCI-XT098D      4       Platinum White Pearl  ...   \n",
      "39      Hatchback  HOCI-AN230U      4       Platinum White Pearl  ...   \n",
      "\n",
      "   HighwayMPG     EPAClassification Wheelbase_Code Internet_Price  \\\n",
      "8        31.0  Small Station Wagons          102.8              0   \n",
      "28       37.0          Midsize Cars          107.7              0   \n",
      "34       36.0          Midsize Cars          109.3              0   \n",
      "35       38.0            Large Cars          107.7              0   \n",
      "39       37.0            Large Cars          107.7              0   \n",
      "\n",
      "                      MarketClass  PassengerCapacity  ExtColorHexCode  \\\n",
      "8                     Small Wagon                  5              NaN   \n",
      "28  4-door Mid-Size Passenger Car                  5              NaN   \n",
      "34  4-door Mid-Size Passenger Car                  5              NaN   \n",
      "35     4-door Large Passenger Car                  5              NaN   \n",
      "39     4-door Large Passenger Car                  5              NaN   \n",
      "\n",
      "    IntColorHexCode  EngineDisplacementCubicInches  PriceRange  \n",
      "8               NaN                          110.0     10K-20K  \n",
      "28              NaN                          122.0     20K-30K  \n",
      "34              NaN                          144.0   Under 10K  \n",
      "35              NaN                          122.0     10K-20K  \n",
      "39              NaN                           91.0     20K-30K  \n",
      "\n",
      "[5 rows x 45 columns]\n"
     ]
    }
   ],
   "source": [
    "# Sample message to test the get_matching_cars function\n",
    "#test_message = \"I'm looking for a used car from 2019, preferably under $30,000 with low mileage.\"\n",
    "test_message = \"I'm looking for a 2014 Honda with high mileage.\"\n",
    "\n",
    "# Get matching cars\n",
    "matching_cars = get_matching_cars(test_message)\n",
    "\n",
    "# Display the result\n",
    "if matching_cars is not None:\n",
    "    print(\"Matching Cars:\")\n",
    "    print(matching_cars)\n",
    "else:\n",
    "    print(\"No cars match the specified preferences.\")\n",
    "\n"
   ]
  },
  {
   "cell_type": "code",
   "execution_count": null,
   "metadata": {},
   "outputs": [],
   "source": []
  },
  {
   "cell_type": "code",
   "execution_count": null,
   "metadata": {},
   "outputs": [],
   "source": []
  },
  {
   "cell_type": "code",
   "execution_count": null,
   "metadata": {},
   "outputs": [],
   "source": []
  },
  {
   "cell_type": "code",
   "execution_count": null,
   "metadata": {},
   "outputs": [],
   "source": []
  },
  {
   "cell_type": "code",
   "execution_count": null,
   "metadata": {},
   "outputs": [],
   "source": []
  },
  {
   "cell_type": "code",
   "execution_count": null,
   "metadata": {},
   "outputs": [],
   "source": []
  },
  {
   "cell_type": "code",
   "execution_count": null,
   "metadata": {},
   "outputs": [],
   "source": []
  },
  {
   "cell_type": "code",
   "execution_count": null,
   "metadata": {},
   "outputs": [],
   "source": []
  },
  {
   "cell_type": "code",
   "execution_count": 89,
   "metadata": {},
   "outputs": [],
   "source": [
    "@app.route('/follow_up', methods=['POST'])\n",
    "def follow_up():\n",
    "    conversation_id = request.json.get('conversation_id')\n",
    "\n",
    "    response = ollama.chat(\n",
    "        model=\"your-llama-model\",\n",
    "        message=\"Can you provide more details like your budget or preferred car features?\",\n",
    "        conversation_id=conversation_id\n",
    "    )\n",
    "\n",
    "    return jsonify({\"reply\": response['content'], \"conversation_id\": response['conversation_id']})\n"
   ]
  },
  {
   "cell_type": "code",
   "execution_count": 90,
   "metadata": {},
   "outputs": [],
   "source": [
    "def search_cars(carsDF, car_type=None, year=None, make=None, model=None, model_number=None, stock=None, vin=None, certified=None):\n",
    "    \"\"\"\n",
    "    Function to filter the cars DataFrame based on user-provided criteria.\n",
    "    Arguments:\n",
    "    - df: DataFrame containing car details.\n",
    "    - car_type: 'New' or 'Used'\n",
    "    - year: Year of manufacture (e.g., 2020)\n",
    "    - make: Make of the car (e.g., 'Mazda')\n",
    "    - model: Model of the car (e.g., 'CX-9')\n",
    "    - model_number: Internal model code\n",
    "    - stock: Dealer stock number\n",
    "    - vin: Vehicle Identification Number\n",
    "    - certified: Pre-owned certification status (True/False)\n",
    "    \n",
    "    Returns:\n",
    "    - Filtered DataFrame based on provided criteria.\n",
    "    \"\"\"\n",
    "    filtered_df = carsDF.copy()\n",
    "\n",
    "    if car_type:\n",
    "        filtered_df = filtered_df[filtered_df['Type'].str.upper() == car_type.upper()]\n",
    "    if year:\n",
    "        filtered_df = filtered_df[filtered_df['Year'] == year]\n",
    "    if make:\n",
    "        filtered_df = filtered_df[filtered_df['Make'].str.upper() == make.upper()]\n",
    "    if model:\n",
    "        filtered_df = filtered_df[filtered_df['Model'].str.upper() == model.upper()]\n",
    "    if model_number:\n",
    "        filtered_df = filtered_df[filtered_df['ModelNumber'].str.upper() == model_number.upper()]\n",
    "    if stock:\n",
    "        filtered_df = filtered_df[filtered_df['Stock'].str.upper() == stock.upper()]\n",
    "    if vin:\n",
    "        filtered_df = filtered_df[filtered_df['VIN'].str.upper() == vin.upper()]\n",
    "    if certified is not None:  # Certified can be True or False\n",
    "        filtered_df = filtered_df[filtered_df['Certified'] == certified]\n",
    "\n",
    "    return filtered_df\n",
    "\n"
   ]
  },
  {
   "cell_type": "code",
   "execution_count": 91,
   "metadata": {},
   "outputs": [],
   "source": [
    "def format_car_suggestions(cars):\n",
    "    suggestions = \"\"\n",
    "    for idx, car in cars.iterrows():\n",
    "        suggestions += f\"- {car['Year']} {car['Make']} {car['Model']}, priced at ${car['SellingPrice']:,.0f}. It has {car['Miles']} miles.\\n\"\n",
    "    return f\"Here are some options I found for you:\\n{suggestions}Would you like to learn more about any of these cars?\"\n"
   ]
  },
  {
   "cell_type": "code",
   "execution_count": 92,
   "metadata": {},
   "outputs": [],
   "source": [
    "def get_car_details(car_id):\n",
    "    car = carsDF[carsDF['VIN'] == car_id].iloc[0]\n",
    "    return (f\"This is a {car['Year']} {car['Make']} {car['Model']} with {car['Miles']} miles, \"\n",
    "            f\"available for ${car['SellingPrice']:,.0f}. It comes with {car['Int_Upholstery']} upholstery \"\n",
    "            f\"and has a {car['Fuel_Type']} engine.\")\n"
   ]
  },
  {
   "cell_type": "code",
   "execution_count": 93,
   "metadata": {},
   "outputs": [],
   "source": [
    "def compare_cars(vin1, vin2):\n",
    "    car1 = carsDF[carsDF['VIN'] == vin1].iloc[0]\n",
    "    car2 = carsDF[carsDF['VIN'] == vin2].iloc[0]\n",
    "    \n",
    "    comparison = (f\"Comparing {car1['Make']} {car1['Model']} vs {car2['Make']} {car2['Model']}:\\n\"\n",
    "                  f\"- {car1['Make']} {car1['Model']} is priced at ${car1['SellingPrice']:,.0f} with {car1['Miles']} miles.\\n\"\n",
    "                  f\"- {car2['Make']} {car2['Model']} is priced at ${car2['SellingPrice']:,.0f} with {car2['Miles']} miles.\\n\"\n",
    "                  f\"{'The first car is more affordable.' if car1['SellingPrice'] < car2['SellingPrice'] else 'The second car is more affordable.'}\")\n",
    "    \n",
    "    return comparison\n"
   ]
  },
  {
   "cell_type": "code",
   "execution_count": 94,
   "metadata": {},
   "outputs": [],
   "source": [
    "def chat_with_llama2(user_message, conversation_id):\n",
    "    url = \"http://localhost:11434/api/chat\"\n",
    "    headers = {\"Content-Type\": \"application/json\"}\n",
    "    data = {\n",
    "        \"model\": \"llama2\",\n",
    "        \"message\": user_message,\n",
    "        \"conversation_id\": conversation_id\n",
    "    }\n",
    "\n",
    "    response = requests.post(url, headers=headers, json=data)\n",
    "\n",
    "    if response.status_code == 200:\n",
    "        response_data = response.json()\n",
    "        return response_data.get('content', \"No response available\")\n",
    "    else:\n",
    "        return f\"Error: {response.status_code} - {response.text}\""
   ]
  },
  {
   "cell_type": "code",
   "execution_count": 95,
   "metadata": {},
   "outputs": [
    {
     "name": "stdout",
     "output_type": "stream",
     "text": [
      " * Serving Flask app '__main__'\n",
      " * Debug mode: off\n"
     ]
    },
    {
     "name": "stderr",
     "output_type": "stream",
     "text": [
      "\u001b[31m\u001b[1mWARNING: This is a development server. Do not use it in a production deployment. Use a production WSGI server instead.\u001b[0m\n",
      " * Running on http://127.0.0.1:5000\n",
      "\u001b[33mPress CTRL+C to quit\u001b[0m\n"
     ]
    }
   ],
   "source": [
    "# Flask App Definition\n",
    "app = Flask(__name__)\n",
    "\n",
    "@app.route('/chat', methods=['POST'])\n",
    "def chat():\n",
    "    user_message = request.json.get('message')\n",
    "    conversation_id = request.json.get('conversation_id')\n",
    "\n",
    "    # Get response from Ollama model\n",
    "    response_content = chat_with_llama2(user_message, conversation_id)\n",
    "\n",
    "    # Use LLM to extract user preferences\n",
    "    user_preferences = extract_preferences(response_content)\n",
    "    filtered_results = search_cars(carsDF, **user_preferences)\n",
    "\n",
    "    if filtered_results.empty:\n",
    "        follow_up_message = \"I couldn't find any cars matching your preferences. Would you like to modify your criteria?\"\n",
    "    else:\n",
    "        top_cars = filtered_results.head(5)  # Get top 5 matches\n",
    "        follow_up_message = format_car_suggestions(top_cars)\n",
    "\n",
    "    # Respond with Ollama's response and filtered car suggestions\n",
    "    return jsonify({\"reply\": follow_up_message, \"conversation_id\": conversation_id})\n",
    "\n",
    "# Run the server\n",
    "if __name__ == \"__main__\":\n",
    "    app.run(port=5000)"
   ]
  }
 ],
 "metadata": {
  "kernelspec": {
   "display_name": "Python 3",
   "language": "python",
   "name": "python3"
  },
  "language_info": {
   "codemirror_mode": {
    "name": "ipython",
    "version": 3
   },
   "file_extension": ".py",
   "mimetype": "text/x-python",
   "name": "python",
   "nbconvert_exporter": "python",
   "pygments_lexer": "ipython3",
   "version": "3.9.6"
  }
 },
 "nbformat": 4,
 "nbformat_minor": 2
}
