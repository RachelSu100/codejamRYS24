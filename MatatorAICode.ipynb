{
 "cells": [
  {
   "cell_type": "code",
   "execution_count": 1,
   "metadata": {},
   "outputs": [
    {
     "name": "stdout",
     "output_type": "stream",
     "text": [
      "\u001b[33mWARNING: You are using pip version 21.2.4; however, version 24.3.1 is available.\n",
      "You should consider upgrading via the '/Library/Developer/CommandLineTools/usr/bin/python3 -m pip install --upgrade pip' command.\u001b[0m\n",
      "Note: you may need to restart the kernel to use updated packages.\n",
      "\u001b[33mWARNING: You are using pip version 21.2.4; however, version 24.3.1 is available.\n",
      "You should consider upgrading via the '/Library/Developer/CommandLineTools/usr/bin/python3 -m pip install --upgrade pip' command.\u001b[0m\n",
      "Note: you may need to restart the kernel to use updated packages.\n",
      "\u001b[33mWARNING: You are using pip version 21.2.4; however, version 24.3.1 is available.\n",
      "You should consider upgrading via the '/Library/Developer/CommandLineTools/usr/bin/python3 -m pip install --upgrade pip' command.\u001b[0m\n",
      "Note: you may need to restart the kernel to use updated packages.\n",
      "Requirements installed successfully!\n"
     ]
    }
   ],
   "source": [
    "# requirements \n",
    "%pip install pandas --quiet \n",
    "%pip install flask requests --quiet\n",
    "%pip install ollama --quiet\n",
    "\n",
    "print(\"Requirements installed successfully!\")\n"
   ]
  },
  {
   "cell_type": "code",
   "execution_count": 2,
   "metadata": {},
   "outputs": [
    {
     "name": "stdout",
     "output_type": "stream",
     "text": [
      "Starting imports...\n",
      "Successfully imported!\n"
     ]
    },
    {
     "name": "stderr",
     "output_type": "stream",
     "text": [
      "/Users/rachelsu/Library/Python/3.9/lib/python/site-packages/urllib3/__init__.py:35: NotOpenSSLWarning: urllib3 v2 only supports OpenSSL 1.1.1+, currently the 'ssl' module is compiled with 'LibreSSL 2.8.3'. See: https://github.com/urllib3/urllib3/issues/3020\n",
      "  warnings.warn(\n"
     ]
    }
   ],
   "source": [
    "# imports\n",
    "print(\"Starting imports...\")\n",
    "import pandas as pd\n",
    "from flask import Flask, request, jsonify\n",
    "import ollama\n",
    "import json\n",
    "import requests\n",
    "import re\n",
    "\n",
    "print(\"Successfully imported!\")"
   ]
  },
  {
   "cell_type": "code",
   "execution_count": 3,
   "metadata": {},
   "outputs": [],
   "source": [
    "# Define the Flask app\n",
    "app = Flask(__name__)"
   ]
  },
  {
   "cell_type": "code",
   "execution_count": 4,
   "metadata": {},
   "outputs": [],
   "source": [
    "# Load the dataset into a df\n",
    "carsDF = pd.read_csv('vehicles.csv')"
   ]
  },
  {
   "cell_type": "code",
   "execution_count": 5,
   "metadata": {},
   "outputs": [],
   "source": [
    "# # view dataset \n",
    "# carsDF.head()"
   ]
  },
  {
   "cell_type": "markdown",
   "metadata": {},
   "source": [
    "Data Cleaning and Preprocessing "
   ]
  },
  {
   "cell_type": "code",
   "execution_count": 6,
   "metadata": {},
   "outputs": [],
   "source": [
    "# Normalize text values to title case for consistency\n",
    "carsDF['Make'] = carsDF['Make'].str.strip().str.upper()  # Remove extra spaces and convert to uppercase\n",
    "carsDF['Model'] = carsDF['Model'].str.strip().str.upper()  # Remove extra spaces and convert to uppercase\n"
   ]
  },
  {
   "cell_type": "code",
   "execution_count": 7,
   "metadata": {},
   "outputs": [],
   "source": [
    "# # Verify normalization\n",
    "# print(carsDF[['Make', 'Model']])"
   ]
  },
  {
   "cell_type": "code",
   "execution_count": 8,
   "metadata": {},
   "outputs": [],
   "source": [
    "# Data Type Correction\n",
    "# Convert numerical columns\n",
    "carsDF['Year'] = carsDF['Year'].astype(int)\n",
    "carsDF['SellingPrice'] = carsDF['SellingPrice'].astype(float)\n",
    "carsDF['Doors'] = carsDF['Doors'].astype(int)\n"
   ]
  },
  {
   "cell_type": "code",
   "execution_count": 9,
   "metadata": {},
   "outputs": [],
   "source": [
    "carsDF['PriceRange'] = pd.cut(carsDF['SellingPrice'], \n",
    "                              bins=[0, 10000, 20000, 30000, 50000, 100000],\n",
    "                              labels=['Under 10K', '10K-20K', '20K-30K', '30K-50K', 'Above 50K'])\n"
   ]
  },
  {
   "cell_type": "code",
   "execution_count": 10,
   "metadata": {},
   "outputs": [],
   "source": [
    "def extract_preferences(message):\n",
    "    \"\"\"\n",
    "    Function to extract user preferences from a message.\n",
    "    Arguments:\n",
    "    - message: User's message as a string.\n",
    "\n",
    "    Returns:\n",
    "    - preferences: A dictionary with extracted preferences.\n",
    "    \"\"\"\n",
    "    preferences = {}\n",
    "\n",
    "    if \"new\" in message.lower() or \"used\" in message.lower():\n",
    "        preferences['car_type'] = 'New' if 'new' in message.lower() else 'Used'\n",
    "    \n",
    "    if 'year' in message.lower():\n",
    "        year = [int(word) for word in message.split() if word.isdigit() and len(word) == 4]\n",
    "        if year:\n",
    "            preferences['year'] = year[0]\n",
    "\n",
    "    if any(make in message.lower() for make in carsDF['Make'].str.lower().unique()):\n",
    "        preferences['make'] = next(make.title() for make in carsDF['Make'].str.lower().unique() if make in message.lower())\n",
    "\n",
    "    # Extract price range (e.g., \"under $20,000\", \"between $20,000 and $30,000\")\n",
    "    price_under = re.search(r'under\\s*\\$?(\\d{1,3}(?:,\\d{3})*)', message, re.IGNORECASE)\n",
    "    price_between = re.search(r'between\\s*\\$?(\\d{1,3}(?:,\\d{3})*)\\s*and\\s*\\$?(\\d{1,3}(?:,\\d{3})*)', message, re.IGNORECASE)\n",
    "    \n",
    "    if price_under:\n",
    "        max_price = int(price_under.group(1).replace(',', ''))\n",
    "        preferences['max_price'] = max_price\n",
    "    elif price_between:\n",
    "        min_price = int(price_between.group(1).replace(',', ''))\n",
    "        max_price = int(price_between.group(2).replace(',', ''))\n",
    "        preferences['min_price'] = min_price\n",
    "        preferences['max_price'] = max_price\n",
    "\n",
    "    # Extract mileage (e.g., \"low mileage\" or \"<50,000 miles\")\n",
    "    if \"low mileage\" in message.lower():\n",
    "        preferences['max_miles'] = 50000  # Assume \"low mileage\" means under 50,000 miles\n",
    "    mileage = re.search(r'(\\d{1,3}(?:,\\d{3})*)\\s*miles', message, re.IGNORECASE)\n",
    "    if mileage:\n",
    "        preferences['max_miles'] = int(mileage.group(1).replace(',', ''))\n",
    "\n",
    "    # Extract exterior color preference\n",
    "    colors = carsDF['Ext_Color_Generic'].dropna().apply(str).str.lower().unique()\n",
    "    for color in colors:\n",
    "        if color in message.lower():\n",
    "            preferences['exterior_color'] = color.title()\n",
    "            break\n",
    "\n",
    "    # Extract drivetrain preference (e.g., AWD, FWD, RWD)\n",
    "    drivetrains = ['AWD', 'FWD', 'RWD', '4WD']\n",
    "    for drivetrain in drivetrains:\n",
    "        if drivetrain.lower() in message.lower():\n",
    "            preferences['drivetrain'] = drivetrain.upper()\n",
    "            break\n",
    "    \n",
    "\n",
    "    return preferences\n"
   ]
  },
  {
   "cell_type": "code",
   "execution_count": 11,
   "metadata": {},
   "outputs": [],
   "source": [
    "def get_matching_cars(message):\n",
    "    \"\"\"\n",
    "    Function to extract user preferences from a message and return matching cars from the dataset.\n",
    "    \n",
    "    Arguments:\n",
    "    - message: User's message as a string.\n",
    "    \n",
    "    Returns:\n",
    "    - matching_cars: A DataFrame with cars that match user preferences.\n",
    "    \"\"\"\n",
    "    # Extract preferences using the existing function\n",
    "    preferences = extract_preferences(message)\n",
    "    \n",
    "    # Filter the dataset based on preferences\n",
    "    filtered_cars = carsDF\n",
    "    \n",
    "    # Apply each preference as a filter\n",
    "    if 'car_type' in preferences:\n",
    "        if preferences['car_type'] == 'New':\n",
    "            filtered_cars = filtered_cars[filtered_cars['Type'] == 'New']\n",
    "        elif preferences['car_type'] == 'Used':\n",
    "            filtered_cars = filtered_cars[filtered_cars['Type'] == 'Used']\n",
    "    \n",
    "    if 'year' in preferences:\n",
    "        filtered_cars = filtered_cars[filtered_cars['Year'] == preferences['year']]\n",
    "    \n",
    "    if 'make' in preferences:\n",
    "        filtered_cars = filtered_cars[filtered_cars['Make'].str.upper() == preferences['make'].upper()]\n",
    "    \n",
    "    if 'min_price' in preferences and 'max_price' in preferences:\n",
    "        filtered_cars = filtered_cars[\n",
    "            (filtered_cars['SellingPrice'] >= preferences['min_price']) & \n",
    "            (filtered_cars['SellingPrice'] <= preferences['max_price'])\n",
    "        ]\n",
    "    elif 'max_price' in preferences:\n",
    "        filtered_cars = filtered_cars[filtered_cars['SellingPrice'] <= preferences['max_price']]\n",
    "    \n",
    "    if 'max_miles' in preferences:\n",
    "        filtered_cars = filtered_cars[filtered_cars['Miles'] <= preferences['max_miles']]\n",
    "    \n",
    "    if 'exterior_color' in preferences:\n",
    "        filtered_cars = filtered_cars[filtered_cars['Ext_Color_Generic'].str.lower() == preferences['exterior_color'].lower()]\n",
    "    \n",
    "    if 'drivetrain' in preferences:\n",
    "        filtered_cars = filtered_cars[filtered_cars['Drivetrain'].str.upper() == preferences['drivetrain'].upper()]\n",
    "    \n",
    "    # Return the filtered dataset with relevant columns\n",
    "    if not filtered_cars.empty:\n",
    "        return filtered_cars[['Type', 'Stock', 'VIN', 'Year', 'Make', 'Model', 'Body', 'ModelNumber',\n",
    "       'Doors', 'ExteriorColor', 'InteriorColor', 'EngineCylinders',\n",
    "       'EngineDisplacement', 'Transmission', 'Miles', 'SellingPrice', 'MSRP',\n",
    "       'BookValue', 'Invoice', 'Certified', 'Options', 'Style_Description',\n",
    "       'Ext_Color_Generic', 'Ext_Color_Code', 'Int_Color_Generic',\n",
    "       'Int_Color_Code', 'Int_Upholstery', 'Engine_Block_Type',\n",
    "       'Engine_Aspiration_Type', 'Engine_Description', 'Transmission_Speed',\n",
    "       'Transmission_Description', 'Drivetrain', 'Fuel_Type', 'CityMPG',\n",
    "       'HighwayMPG', 'EPAClassification', 'Wheelbase_Code', 'Internet_Price',\n",
    "       'MarketClass', 'PassengerCapacity', 'ExtColorHexCode',\n",
    "       'IntColorHexCode', 'EngineDisplacementCubicInches', 'PriceRange']].head(5)  # Returning top 10 matches for brevity\n",
    "    else:\n",
    "        return None\n"
   ]
  },
  {
   "cell_type": "code",
   "execution_count": 12,
   "metadata": {},
   "outputs": [
    {
     "name": "stdout",
     "output_type": "stream",
     "text": [
      "Index(['Type', 'Stock', 'VIN', 'Year', 'Make', 'Model', 'Body', 'ModelNumber',\n",
      "       'Doors', 'ExteriorColor', 'InteriorColor', 'EngineCylinders',\n",
      "       'EngineDisplacement', 'Transmission', 'Miles', 'SellingPrice', 'MSRP',\n",
      "       'BookValue', 'Invoice', 'Certified', 'Options', 'Style_Description',\n",
      "       'Ext_Color_Generic', 'Ext_Color_Code', 'Int_Color_Generic',\n",
      "       'Int_Color_Code', 'Int_Upholstery', 'Engine_Block_Type',\n",
      "       'Engine_Aspiration_Type', 'Engine_Description', 'Transmission_Speed',\n",
      "       'Transmission_Description', 'Drivetrain', 'Fuel_Type', 'CityMPG',\n",
      "       'HighwayMPG', 'EPAClassification', 'Wheelbase_Code', 'Internet_Price',\n",
      "       'MarketClass', 'PassengerCapacity', 'ExtColorHexCode',\n",
      "       'IntColorHexCode', 'EngineDisplacementCubicInches', 'PriceRange'],\n",
      "      dtype='object')\n"
     ]
    }
   ],
   "source": [
    "print(carsDF.columns)\n"
   ]
  },
  {
   "cell_type": "code",
   "execution_count": 13,
   "metadata": {},
   "outputs": [
    {
     "name": "stdout",
     "output_type": "stream",
     "text": [
      "Matching Cars:\n",
      "    Type    Stock                VIN  Year   Make            Model  \\\n",
      "8    New  H254838  5CTG8SJWZC5HKDNLB  2018  HONDA             HR-V   \n",
      "28   New  T965130  Z8JS24DT5ZT69T5R5  2023  HONDA            CIVIC   \n",
      "34  Used  H108383  CMW5BPVEUF98K6H8D  2014  HONDA           ACCORD   \n",
      "35  Used  P541001  2UJ6TY3LFP3222GJP  2024  HONDA  CIVIC HATCHBACK   \n",
      "39  Used  F884425  VRB2D001UP7F84Z4H  2024  HONDA  CIVIC HATCHBACK   \n",
      "\n",
      "             Body  ModelNumber  Doors              ExteriorColor  ...  \\\n",
      "8   Sport Utility  HOHR-VH558X      4      Lunar Silver Metallic  ...   \n",
      "28        4dr Car  HOCI-ML043L      4                 Rallye Red  ...   \n",
      "34        4dr Car  HOAC-FD381Y      4  Alabaster Silver Metallic  ...   \n",
      "35      Hatchback  HOCI-XT098D      4       Platinum White Pearl  ...   \n",
      "39      Hatchback  HOCI-AN230U      4       Platinum White Pearl  ...   \n",
      "\n",
      "   HighwayMPG     EPAClassification Wheelbase_Code Internet_Price  \\\n",
      "8        31.0  Small Station Wagons          102.8              0   \n",
      "28       37.0          Midsize Cars          107.7              0   \n",
      "34       36.0          Midsize Cars          109.3              0   \n",
      "35       38.0            Large Cars          107.7              0   \n",
      "39       37.0            Large Cars          107.7              0   \n",
      "\n",
      "                      MarketClass  PassengerCapacity  ExtColorHexCode  \\\n",
      "8                     Small Wagon                  5              NaN   \n",
      "28  4-door Mid-Size Passenger Car                  5              NaN   \n",
      "34  4-door Mid-Size Passenger Car                  5              NaN   \n",
      "35     4-door Large Passenger Car                  5              NaN   \n",
      "39     4-door Large Passenger Car                  5              NaN   \n",
      "\n",
      "    IntColorHexCode  EngineDisplacementCubicInches  PriceRange  \n",
      "8               NaN                          110.0     10K-20K  \n",
      "28              NaN                          122.0     20K-30K  \n",
      "34              NaN                          144.0   Under 10K  \n",
      "35              NaN                          122.0     10K-20K  \n",
      "39              NaN                           91.0     20K-30K  \n",
      "\n",
      "[5 rows x 45 columns]\n"
     ]
    }
   ],
   "source": [
    "# Sample message to test the get_matching_cars function\n",
    "#test_message = \"I'm looking for a used car from 2019, preferably under $30,000 with low mileage.\"\n",
    "test_message = \"I'm looking for a 2014 Honda with high mileage.\"\n",
    "\n",
    "# Get matching cars\n",
    "matching_cars = get_matching_cars(test_message)\n",
    "\n",
    "# Display the result\n",
    "if matching_cars is not None:\n",
    "    print(\"Matching Cars:\")\n",
    "    print(matching_cars)\n",
    "else:\n",
    "    print(\"No cars match the specified preferences.\")\n",
    "\n"
   ]
  },
  {
   "cell_type": "markdown",
   "metadata": {},
   "source": [
    "Integrating LLM "
   ]
  },
  {
   "cell_type": "code",
   "execution_count": 19,
   "metadata": {},
   "outputs": [],
   "source": [
    "\n",
    "\n",
    "# Main Loop to Interact with Llama 2 and Extract Preferences\n",
    "while True:\n",
    "    user_input = input(\"Enter your car preferences (or type 'exit' to quit): \")\n",
    "    if user_input.lower() == 'exit':\n",
    "        break\n",
    "\n",
    "    # Prepare the input in the correct format\n",
    "    messages = [\n",
    "        {\"role\": \"user\", \"content\": user_input}\n",
    "    ]\n",
    "\n",
    "    # Use Llama 2 to generate a response\n",
    "    try:\n",
    "        response = ollama.chat(model=\"llama2\", messages=messages)\n",
    "        print(\"\\nLlama 2 Response:\")\n",
    "        print(response.content)  # Assuming response has a 'content' attribute containing the response text\n",
    "    except TypeError as e:\n",
    "        print(f\"An error occurred while calling ollama: {e}\")\n",
    "        response = \"Unable to generate response from Llama 2.\"\n",
    "    except ValueError as e:\n",
    "        print(f\"An error occurred while processing the response: {e}\")\n",
    "        response = \"Unable to generate response from Llama 2.\"\n",
    "\n",
    "    # Extract preferences and find matching cars\n",
    "    preferences = extract_preferences(user_input)\n",
    "    matching_cars = get_matching_cars(user_input)\n",
    "\n",
    "    # Print User Preferences\n",
    "    print(\"\\nExtracted Preferences:\")\n",
    "    print(preferences)\n",
    "\n",
    "    # Display Matching Cars\n",
    "    if matching_cars is not None:\n",
    "        print(\"\\nMatching Cars:\")\n",
    "        print(matching_cars)\n",
    "    else:\n",
    "        print(\"\\nNo cars match the specified preferences.\\n\")\n"
   ]
  }
 ],
 "metadata": {
  "kernelspec": {
   "display_name": "Python 3",
   "language": "python",
   "name": "python3"
  },
  "language_info": {
   "codemirror_mode": {
    "name": "ipython",
    "version": 3
   },
   "file_extension": ".py",
   "mimetype": "text/x-python",
   "name": "python",
   "nbconvert_exporter": "python",
   "pygments_lexer": "ipython3",
   "version": "3.9.6"
  }
 },
 "nbformat": 4,
 "nbformat_minor": 2
}
