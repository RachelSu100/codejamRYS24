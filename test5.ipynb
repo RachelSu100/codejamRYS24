{
 "cells": [
  {
   "cell_type": "code",
   "execution_count": 1,
   "metadata": {},
   "outputs": [],
   "source": [
    "import pandas as pd\n"
   ]
  },
  {
   "cell_type": "code",
   "execution_count": 2,
   "metadata": {},
   "outputs": [],
   "source": [
    "data = pd.read_csv('vehicles.csv')"
   ]
  },
  {
   "cell_type": "code",
   "execution_count": 3,
   "metadata": {},
   "outputs": [],
   "source": [
    "# Specify the columns you want to keep\n",
    "columns_to_keep = ['Year', 'Make', 'Model', 'Type', 'SellingPrice', 'Miles']\n",
    "\n",
    "# Create a new DataFrame with only the specified columns\n",
    "filtered_data = data[columns_to_keep]"
   ]
  },
  {
   "cell_type": "code",
   "execution_count": 4,
   "metadata": {},
   "outputs": [
    {
     "data": {
      "text/html": [
       "<div>\n",
       "<style scoped>\n",
       "    .dataframe tbody tr th:only-of-type {\n",
       "        vertical-align: middle;\n",
       "    }\n",
       "\n",
       "    .dataframe tbody tr th {\n",
       "        vertical-align: top;\n",
       "    }\n",
       "\n",
       "    .dataframe thead th {\n",
       "        text-align: right;\n",
       "    }\n",
       "</style>\n",
       "<table border=\"1\" class=\"dataframe\">\n",
       "  <thead>\n",
       "    <tr style=\"text-align: right;\">\n",
       "      <th></th>\n",
       "      <th>Year</th>\n",
       "      <th>Make</th>\n",
       "      <th>Model</th>\n",
       "      <th>Type</th>\n",
       "      <th>SellingPrice</th>\n",
       "      <th>Miles</th>\n",
       "    </tr>\n",
       "  </thead>\n",
       "  <tbody>\n",
       "    <tr>\n",
       "      <th>0</th>\n",
       "      <td>2019</td>\n",
       "      <td>Mazda</td>\n",
       "      <td>CX-9</td>\n",
       "      <td>Used</td>\n",
       "      <td>18498</td>\n",
       "      <td>60081</td>\n",
       "    </tr>\n",
       "    <tr>\n",
       "      <th>1</th>\n",
       "      <td>2024</td>\n",
       "      <td>Maserati</td>\n",
       "      <td>Levante</td>\n",
       "      <td>Used</td>\n",
       "      <td>86998</td>\n",
       "      <td>75</td>\n",
       "    </tr>\n",
       "    <tr>\n",
       "      <th>2</th>\n",
       "      <td>2019</td>\n",
       "      <td>Volkswagen</td>\n",
       "      <td>Tiguan</td>\n",
       "      <td>Used</td>\n",
       "      <td>14498</td>\n",
       "      <td>72266</td>\n",
       "    </tr>\n",
       "    <tr>\n",
       "      <th>3</th>\n",
       "      <td>2022</td>\n",
       "      <td>INFINITI</td>\n",
       "      <td>Q50</td>\n",
       "      <td>Used</td>\n",
       "      <td>29998</td>\n",
       "      <td>42796</td>\n",
       "    </tr>\n",
       "    <tr>\n",
       "      <th>4</th>\n",
       "      <td>2019</td>\n",
       "      <td>Hyundai</td>\n",
       "      <td>Elantra</td>\n",
       "      <td>Used</td>\n",
       "      <td>10498</td>\n",
       "      <td>71265</td>\n",
       "    </tr>\n",
       "    <tr>\n",
       "      <th>...</th>\n",
       "      <td>...</td>\n",
       "      <td>...</td>\n",
       "      <td>...</td>\n",
       "      <td>...</td>\n",
       "      <td>...</td>\n",
       "      <td>...</td>\n",
       "    </tr>\n",
       "    <tr>\n",
       "      <th>2225</th>\n",
       "      <td>2020</td>\n",
       "      <td>Toyota</td>\n",
       "      <td>Corolla</td>\n",
       "      <td>New</td>\n",
       "      <td>14497</td>\n",
       "      <td>0</td>\n",
       "    </tr>\n",
       "    <tr>\n",
       "      <th>2226</th>\n",
       "      <td>2021</td>\n",
       "      <td>Dodge</td>\n",
       "      <td>Durango</td>\n",
       "      <td>Used</td>\n",
       "      <td>25998</td>\n",
       "      <td>52798</td>\n",
       "    </tr>\n",
       "    <tr>\n",
       "      <th>2227</th>\n",
       "      <td>2021</td>\n",
       "      <td>Alfa Romeo</td>\n",
       "      <td>Giulia</td>\n",
       "      <td>New</td>\n",
       "      <td>16997</td>\n",
       "      <td>0</td>\n",
       "    </tr>\n",
       "    <tr>\n",
       "      <th>2228</th>\n",
       "      <td>2024</td>\n",
       "      <td>Nissan</td>\n",
       "      <td>Sentra</td>\n",
       "      <td>New</td>\n",
       "      <td>16998</td>\n",
       "      <td>0</td>\n",
       "    </tr>\n",
       "    <tr>\n",
       "      <th>2229</th>\n",
       "      <td>2020</td>\n",
       "      <td>Toyota</td>\n",
       "      <td>Tacoma 2WD</td>\n",
       "      <td>Used</td>\n",
       "      <td>18998</td>\n",
       "      <td>57923</td>\n",
       "    </tr>\n",
       "  </tbody>\n",
       "</table>\n",
       "<p>2230 rows × 6 columns</p>\n",
       "</div>"
      ],
      "text/plain": [
       "      Year        Make       Model  Type  SellingPrice  Miles\n",
       "0     2019       Mazda        CX-9  Used         18498  60081\n",
       "1     2024    Maserati     Levante  Used         86998     75\n",
       "2     2019  Volkswagen      Tiguan  Used         14498  72266\n",
       "3     2022    INFINITI         Q50  Used         29998  42796\n",
       "4     2019     Hyundai     Elantra  Used         10498  71265\n",
       "...    ...         ...         ...   ...           ...    ...\n",
       "2225  2020      Toyota     Corolla   New         14497      0\n",
       "2226  2021       Dodge     Durango  Used         25998  52798\n",
       "2227  2021  Alfa Romeo      Giulia   New         16997      0\n",
       "2228  2024      Nissan      Sentra   New         16998      0\n",
       "2229  2020      Toyota  Tacoma 2WD  Used         18998  57923\n",
       "\n",
       "[2230 rows x 6 columns]"
      ]
     },
     "execution_count": 4,
     "metadata": {},
     "output_type": "execute_result"
    }
   ],
   "source": [
    "filtered_data"
   ]
  },
  {
   "cell_type": "code",
   "execution_count": 24,
   "metadata": {},
   "outputs": [
    {
     "name": "stdout",
     "output_type": "stream",
     "text": [
      "Initial number of rows: 2230\n"
     ]
    }
   ],
   "source": [
    "initial_rows = len(filtered_data)\n",
    "print(f\"Initial number of rows: {initial_rows}\")"
   ]
  },
  {
   "cell_type": "code",
   "execution_count": 25,
   "metadata": {},
   "outputs": [
    {
     "name": "stderr",
     "output_type": "stream",
     "text": [
      "/var/folders/tc/cqcw_gcs6md3gx9jdjh0vzn40000gn/T/ipykernel_30003/3944837648.py:2: SettingWithCopyWarning: \n",
      "A value is trying to be set on a copy of a slice from a DataFrame.\n",
      "Try using .loc[row_indexer,col_indexer] = value instead\n",
      "\n",
      "See the caveats in the documentation: https://pandas.pydata.org/pandas-docs/stable/user_guide/indexing.html#returning-a-view-versus-a-copy\n",
      "  filtered_data['Year'] = filtered_data['Year'].fillna(filtered_data['Year'].mean())\n",
      "/var/folders/tc/cqcw_gcs6md3gx9jdjh0vzn40000gn/T/ipykernel_30003/3944837648.py:3: SettingWithCopyWarning: \n",
      "A value is trying to be set on a copy of a slice from a DataFrame.\n",
      "Try using .loc[row_indexer,col_indexer] = value instead\n",
      "\n",
      "See the caveats in the documentation: https://pandas.pydata.org/pandas-docs/stable/user_guide/indexing.html#returning-a-view-versus-a-copy\n",
      "  filtered_data['SellingPrice'] = filtered_data['SellingPrice'].fillna(filtered_data['SellingPrice'].mean())\n",
      "/var/folders/tc/cqcw_gcs6md3gx9jdjh0vzn40000gn/T/ipykernel_30003/3944837648.py:4: SettingWithCopyWarning: \n",
      "A value is trying to be set on a copy of a slice from a DataFrame.\n",
      "Try using .loc[row_indexer,col_indexer] = value instead\n",
      "\n",
      "See the caveats in the documentation: https://pandas.pydata.org/pandas-docs/stable/user_guide/indexing.html#returning-a-view-versus-a-copy\n",
      "  filtered_data['Miles'] = filtered_data['Miles'].fillna(filtered_data['Miles'].mean())\n"
     ]
    }
   ],
   "source": [
    "# Fill missing values for 'Year', 'SellingPrice', 'Miles' with the average value and assign back\n",
    "filtered_data['Year'] = filtered_data['Year'].fillna(filtered_data['Year'].mean())\n",
    "filtered_data['SellingPrice'] = filtered_data['SellingPrice'].fillna(filtered_data['SellingPrice'].mean())\n",
    "filtered_data['Miles'] = filtered_data['Miles'].fillna(filtered_data['Miles'].mean())\n"
   ]
  },
  {
   "cell_type": "code",
   "execution_count": 26,
   "metadata": {},
   "outputs": [
    {
     "name": "stderr",
     "output_type": "stream",
     "text": [
      "/var/folders/tc/cqcw_gcs6md3gx9jdjh0vzn40000gn/T/ipykernel_30003/934833275.py:2: SettingWithCopyWarning: \n",
      "A value is trying to be set on a copy of a slice from a DataFrame\n",
      "\n",
      "See the caveats in the documentation: https://pandas.pydata.org/pandas-docs/stable/user_guide/indexing.html#returning-a-view-versus-a-copy\n",
      "  filtered_data.dropna(subset=['Make', 'Model', 'Type'], inplace=True)\n"
     ]
    }
   ],
   "source": [
    "# Step 2: Drop rows where any of ['Make', 'Model', 'Type'] is missing\n",
    "filtered_data.dropna(subset=['Make', 'Model', 'Type'], inplace=True)"
   ]
  },
  {
   "cell_type": "code",
   "execution_count": 28,
   "metadata": {},
   "outputs": [
    {
     "name": "stdout",
     "output_type": "stream",
     "text": [
      "Final number of rows: 2230\n"
     ]
    }
   ],
   "source": [
    "# Checking the number of rows after the operation\n",
    "final_rows = len(filtered_data)\n",
    "print(f\"Final number of rows: {final_rows}\")"
   ]
  },
  {
   "cell_type": "code",
   "execution_count": 29,
   "metadata": {},
   "outputs": [
    {
     "name": "stdout",
     "output_type": "stream",
     "text": [
      "      Year        Make       Model  Type  SellingPrice  Miles\n",
      "0     2019       Mazda        CX-9  Used         18498  60081\n",
      "1     2024    Maserati     Levante  Used         86998     75\n",
      "2     2019  Volkswagen      Tiguan  Used         14498  72266\n",
      "3     2022    INFINITI         Q50  Used         29998  42796\n",
      "4     2019     Hyundai     Elantra  Used         10498  71265\n",
      "...    ...         ...         ...   ...           ...    ...\n",
      "2225  2020      Toyota     Corolla   New         14497      0\n",
      "2226  2021       Dodge     Durango  Used         25998  52798\n",
      "2227  2021  Alfa Romeo      Giulia   New         16997      0\n",
      "2228  2024      Nissan      Sentra   New         16998      0\n",
      "2229  2020      Toyota  Tacoma 2WD  Used         18998  57923\n",
      "\n",
      "[2230 rows x 6 columns]\n"
     ]
    }
   ],
   "source": [
    "# Display the modified DataFrame\n",
    "print(filtered_data)"
   ]
  },
  {
   "cell_type": "code",
   "execution_count": 30,
   "metadata": {},
   "outputs": [
    {
     "name": "stderr",
     "output_type": "stream",
     "text": [
      "/var/folders/tc/cqcw_gcs6md3gx9jdjh0vzn40000gn/T/ipykernel_30003/3348374038.py:2: SettingWithCopyWarning: \n",
      "A value is trying to be set on a copy of a slice from a DataFrame.\n",
      "Try using .loc[row_indexer,col_indexer] = value instead\n",
      "\n",
      "See the caveats in the documentation: https://pandas.pydata.org/pandas-docs/stable/user_guide/indexing.html#returning-a-view-versus-a-copy\n",
      "  filtered_data['Description'] = filtered_data.apply(\n"
     ]
    }
   ],
   "source": [
    "# Create descriptions using the specified columns\n",
    "filtered_data['Description'] = filtered_data.apply(\n",
    "    lambda x: f\"This {x['Type'].lower()} {x['Year']} {x['Make']} {x['Model']} is available with {x['Miles']} miles on it, priced at ${x['SellingPrice']}.\",\n",
    "    axis=1\n",
    ")"
   ]
  },
  {
   "cell_type": "code",
   "execution_count": 31,
   "metadata": {},
   "outputs": [],
   "source": [
    "from sentence_transformers import SentenceTransformer\n",
    "\n",
    "model = SentenceTransformer('all-MiniLM-L6-v2')\n",
    "car_descriptions = filtered_data['Description'].tolist()\n",
    "embeddings = model.encode(car_descriptions)  # Tokenization happens inside this method"
   ]
  },
  {
   "cell_type": "code",
   "execution_count": 12,
   "metadata": {},
   "outputs": [
    {
     "name": "stderr",
     "output_type": "stream",
     "text": [
      "huggingface/tokenizers: The current process just got forked, after parallelism has already been used. Disabling parallelism to avoid deadlocks...\n",
      "To disable this warning, you can either:\n",
      "\t- Avoid using `tokenizers` before the fork if possible\n",
      "\t- Explicitly set the environment variable TOKENIZERS_PARALLELISM=(true | false)\n"
     ]
    },
    {
     "name": "stdout",
     "output_type": "stream",
     "text": [
      "\u001b[33mWARNING: You are using pip version 21.2.4; however, version 24.3.1 is available.\n",
      "You should consider upgrading via the '/Library/Developer/CommandLineTools/usr/bin/python3 -m pip install --upgrade pip' command.\u001b[0m\n",
      "Note: you may need to restart the kernel to use updated packages.\n"
     ]
    }
   ],
   "source": [
    "%pip install qdrant-client --quiet"
   ]
  },
  {
   "cell_type": "code",
   "execution_count": 32,
   "metadata": {},
   "outputs": [
    {
     "name": "stderr",
     "output_type": "stream",
     "text": [
      "/var/folders/tc/cqcw_gcs6md3gx9jdjh0vzn40000gn/T/ipykernel_30003/1285340807.py:7: DeprecationWarning: `recreate_collection` method is deprecated and will be removed in the future. Use `collection_exists` to check collection existence and `create_collection` instead.\n",
      "  qdrant_client.recreate_collection(\n"
     ]
    }
   ],
   "source": [
    "from qdrant_client import QdrantClient\n",
    "\n",
    "# Connect to Qdrant\n",
    "qdrant_client = QdrantClient(host=\"localhost\", port=6333)\n",
    "\n",
    "# Recreate collection in Qdrant\n",
    "qdrant_client.recreate_collection(\n",
    "    collection_name=\"car_inventory\",\n",
    "    vectors_config={\n",
    "        \"size\": embeddings.shape[1],  # Set the size of the embeddings\n",
    "        \"distance\": \"Cosine\"\n",
    "    }\n",
    ")\n",
    "\n",
    "# Insert embeddings and payload data (the car metadata)\n",
    "payloads = filtered_data.to_dict(orient='records')\n",
    "\n",
    "for idx, embedding in enumerate(embeddings):\n",
    "    qdrant_client.upsert(\n",
    "        collection_name=\"car_inventory\",\n",
    "        points=[{\n",
    "            \"id\": idx,\n",
    "            \"vector\": embedding,\n",
    "            \"payload\": payloads[idx]  # Metadata like make, model, year, etc.\n",
    "        }]\n",
    "    )\n"
   ]
  },
  {
   "cell_type": "code",
   "execution_count": 33,
   "metadata": {},
   "outputs": [],
   "source": [
    "user_query = \"I want a car made in 2020\"\n",
    "query_embedding = model.encode([user_query])[0]"
   ]
  },
  {
   "cell_type": "code",
   "execution_count": 34,
   "metadata": {},
   "outputs": [
    {
     "name": "stdout",
     "output_type": "stream",
     "text": [
      "Match: 2020 Mercedes-Benz C-Class, Price: $18998\n",
      "Match: 2020 Hyundai Veloster N, Price: $19498\n",
      "Match: 2020 Volkswagen Atlas, Price: $18498\n",
      "Match: 2023 Dodge Challenger, Price: $25998\n",
      "Match: 2020 Mercedes-Benz C-Class, Price: $39998\n",
      "Match: 2020 Chevrolet Camaro, Price: $21898\n",
      "Match: 2020 Lexus IS, Price: $25498\n",
      "Match: 2020 Chevrolet Camaro, Price: $15498\n",
      "Match: 2020 Mercedes-Benz GLE, Price: $31498\n",
      "Match: 2023 BMW 3 Series, Price: $29998\n",
      "Match: 2020 Nissan Altima, Price: $16998\n",
      "Match: 2023 Nissan Altima, Price: $20298\n",
      "Match: 2021 Mercedes-Benz GLA, Price: $0\n",
      "Match: 2022 Toyota Corolla, Price: $18998\n",
      "Match: 2021 Porsche Cayenne, Price: $40898\n",
      "Match: 2023 Mercedes-Benz EQE, Price: $0\n",
      "Match: 2020 Mercedes-Benz GLC, Price: $22998\n",
      "Match: 2020 Acura TLX, Price: $17498\n",
      "Match: 2020 Honda Civic Sedan, Price: $0\n",
      "Match: 2020 Dodge Challenger, Price: $30997\n"
     ]
    }
   ],
   "source": [
    "results = qdrant_client.search(\n",
    "    collection_name=\"car_inventory\",\n",
    "    query_vector=query_embedding,\n",
    "    limit=20  \n",
    ")\n",
    "\n",
    "# Print results\n",
    "for result in results:\n",
    "    car_details = result.payload\n",
    "    print(f\"Match: {car_details['Year']} {car_details['Make']} {car_details['Model']}, Price: ${car_details['SellingPrice']}\")"
   ]
  },
  {
   "cell_type": "code",
   "execution_count": 16,
   "metadata": {},
   "outputs": [
    {
     "name": "stderr",
     "output_type": "stream",
     "text": [
      "huggingface/tokenizers: The current process just got forked, after parallelism has already been used. Disabling parallelism to avoid deadlocks...\n",
      "To disable this warning, you can either:\n",
      "\t- Avoid using `tokenizers` before the fork if possible\n",
      "\t- Explicitly set the environment variable TOKENIZERS_PARALLELISM=(true | false)\n"
     ]
    },
    {
     "name": "stdout",
     "output_type": "stream",
     "text": [
      "Defaulting to user installation because normal site-packages is not writeable\n",
      "Requirement already satisfied: transformers in /Users/rachelsu/Library/Python/3.9/lib/python/site-packages (4.46.3)\n",
      "Requirement already satisfied: torch in /Users/rachelsu/Library/Python/3.9/lib/python/site-packages (2.5.1)\n",
      "Requirement already satisfied: tokenizers<0.21,>=0.20 in /Users/rachelsu/Library/Python/3.9/lib/python/site-packages (from transformers) (0.20.3)\n",
      "Requirement already satisfied: packaging>=20.0 in /Users/rachelsu/Library/Python/3.9/lib/python/site-packages (from transformers) (24.1)\n",
      "Requirement already satisfied: tqdm>=4.27 in /Users/rachelsu/Library/Python/3.9/lib/python/site-packages (from transformers) (4.67.0)\n",
      "Requirement already satisfied: regex!=2019.12.17 in /Users/rachelsu/Library/Python/3.9/lib/python/site-packages (from transformers) (2024.11.6)\n",
      "Requirement already satisfied: pyyaml>=5.1 in /Users/rachelsu/Library/Python/3.9/lib/python/site-packages (from transformers) (6.0.2)\n",
      "Requirement already satisfied: safetensors>=0.4.1 in /Users/rachelsu/Library/Python/3.9/lib/python/site-packages (from transformers) (0.4.5)\n",
      "Requirement already satisfied: numpy>=1.17 in /Users/rachelsu/Library/Python/3.9/lib/python/site-packages (from transformers) (1.26.4)\n",
      "Requirement already satisfied: requests in /Users/rachelsu/Library/Python/3.9/lib/python/site-packages (from transformers) (2.32.3)\n",
      "Requirement already satisfied: huggingface-hub<1.0,>=0.23.2 in /Users/rachelsu/Library/Python/3.9/lib/python/site-packages (from transformers) (0.26.2)\n",
      "Requirement already satisfied: filelock in /Users/rachelsu/Library/Python/3.9/lib/python/site-packages (from transformers) (3.16.1)\n",
      "Requirement already satisfied: sympy==1.13.1 in /Users/rachelsu/Library/Python/3.9/lib/python/site-packages (from torch) (1.13.1)\n",
      "Requirement already satisfied: fsspec in /Users/rachelsu/Library/Python/3.9/lib/python/site-packages (from torch) (2024.10.0)\n",
      "Requirement already satisfied: jinja2 in /Users/rachelsu/Library/Python/3.9/lib/python/site-packages (from torch) (3.1.4)\n",
      "Requirement already satisfied: networkx in /Users/rachelsu/Library/Python/3.9/lib/python/site-packages (from torch) (3.2.1)\n",
      "Requirement already satisfied: typing-extensions>=4.8.0 in /Users/rachelsu/Library/Python/3.9/lib/python/site-packages (from torch) (4.12.2)\n",
      "Requirement already satisfied: mpmath<1.4,>=1.1.0 in /Users/rachelsu/Library/Python/3.9/lib/python/site-packages (from sympy==1.13.1->torch) (1.3.0)\n",
      "Requirement already satisfied: MarkupSafe>=2.0 in /Users/rachelsu/Library/Python/3.9/lib/python/site-packages (from jinja2->torch) (2.1.5)\n",
      "Requirement already satisfied: charset-normalizer<4,>=2 in /Users/rachelsu/Library/Python/3.9/lib/python/site-packages (from requests->transformers) (3.4.0)\n",
      "Requirement already satisfied: urllib3<3,>=1.21.1 in /Users/rachelsu/Library/Python/3.9/lib/python/site-packages (from requests->transformers) (2.2.3)\n",
      "Requirement already satisfied: certifi>=2017.4.17 in /Users/rachelsu/Library/Python/3.9/lib/python/site-packages (from requests->transformers) (2024.8.30)\n",
      "Requirement already satisfied: idna<4,>=2.5 in /Users/rachelsu/Library/Python/3.9/lib/python/site-packages (from requests->transformers) (3.10)\n",
      "\u001b[33mWARNING: You are using pip version 21.2.4; however, version 24.3.1 is available.\n",
      "You should consider upgrading via the '/Library/Developer/CommandLineTools/usr/bin/python3 -m pip install --upgrade pip' command.\u001b[0m\n",
      "Note: you may need to restart the kernel to use updated packages.\n"
     ]
    }
   ],
   "source": [
    "%pip install transformers torch\n"
   ]
  },
  {
   "cell_type": "code",
   "execution_count": 17,
   "metadata": {},
   "outputs": [],
   "source": [
    "from transformers import GPT2LMHeadModel, GPT2Tokenizer, pipeline"
   ]
  },
  {
   "cell_type": "code",
   "execution_count": 35,
   "metadata": {},
   "outputs": [],
   "source": [
    "# Load GPT-2 model and tokenizer\n",
    "model_name = \"gpt2\"\n",
    "tokenizer = GPT2Tokenizer.from_pretrained(model_name)\n",
    "model = GPT2LMHeadModel.from_pretrained(model_name)\n"
   ]
  },
  {
   "cell_type": "code",
   "execution_count": 43,
   "metadata": {},
   "outputs": [
    {
     "name": "stderr",
     "output_type": "stream",
     "text": [
      "Hardware accelerator e.g. GPU is available in the environment, but no `device` argument is passed to the `Pipeline` object. Model will be on CPU.\n"
     ]
    }
   ],
   "source": [
    "# Create text generation pipeline for GPT-2\n",
    "generator = pipeline(\"text-generation\", model=model, tokenizer=tokenizer)\n",
    "\n",
    "# Assuming we have retrieved the top 20 candidates\n",
    "results = qdrant_client.search(\n",
    "    collection_name=\"car_inventory\",\n",
    "    query_vector=query_embedding,\n",
    "    limit=20  \n",
    ")"
   ]
  },
  {
   "cell_type": "code",
   "execution_count": 52,
   "metadata": {},
   "outputs": [],
   "source": [
    "# Get the payloads from the results\n",
    "candidate_data = [result.payload for result in results]\n",
    "\n",
    "candidate_data = candidate_data[:5]\n",
    "\n",
    "# Create a description of the top 5 cars\n",
    "candidate_descriptions = [\n",
    "    f\"{idx+1}. {car['Year']} {car['Make']} {car['Model']}, {car['Miles']} miles, priced at ${car['SellingPrice']}.\"\n",
    "    for idx, car in enumerate(candidate_data)\n",
    "]"
   ]
  },
  {
   "cell_type": "code",
   "execution_count": 55,
   "metadata": {},
   "outputs": [
    {
     "name": "stdout",
     "output_type": "stream",
     "text": [
      "Here are some great car options I found for you:\n",
      "1. 2020 Mercedes-Benz C-Class, 70231 miles, priced at $18998.\n",
      "2. 2020 Hyundai Veloster N, 54107 miles, priced at $19498.\n",
      "3. 2020 Volkswagen Atlas, 70402 miles, priced at $18498.\n",
      "4. 2023 Dodge Challenger, 20576 miles, priced at $25998.\n",
      "5. 2020 Mercedes-Benz C-Class, 38404 miles, priced at $39998.\n",
      "\n",
      "Do any of these cars sound interesting to you? Or do you have more preferences you'd like me to consider? Send us your queries below.\n"
     ]
    }
   ],
   "source": [
    "# Construct the prompt for GPT-2\n",
    "prompt = (\n",
    "    \"Here are some great car options I found for you:\\n\"\n",
    "    + \"\\n\".join(candidate_descriptions)\n",
    "    + \"\\n\\nDo any of these cars sound interesting to you? Or do you have more preferences you'd like me to consider?\"\n",
    ")\n",
    "\n",
    "\n",
    "\n",
    "# Generate a conversational response using GPT-2\n",
    "response = generator(prompt, max_length=150, num_return_sequences=1, pad_token_id=tokenizer.eos_token_id)\n",
    "\n",
    "# Output the response\n",
    "print(response[0]['generated_text'])"
   ]
  }
 ],
 "metadata": {
  "kernelspec": {
   "display_name": "Python 3",
   "language": "python",
   "name": "python3"
  },
  "language_info": {
   "codemirror_mode": {
    "name": "ipython",
    "version": 3
   },
   "file_extension": ".py",
   "mimetype": "text/x-python",
   "name": "python",
   "nbconvert_exporter": "python",
   "pygments_lexer": "ipython3",
   "version": "3.9.6"
  }
 },
 "nbformat": 4,
 "nbformat_minor": 2
}
