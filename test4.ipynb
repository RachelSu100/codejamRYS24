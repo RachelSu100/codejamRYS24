{
 "cells": [
  {
   "cell_type": "code",
   "execution_count": 1,
   "metadata": {},
   "outputs": [],
   "source": [
    "import pandas as pd"
   ]
  },
  {
   "cell_type": "code",
   "execution_count": 2,
   "metadata": {},
   "outputs": [],
   "source": [
    "data = pd.read_csv('vehicles.csv')"
   ]
  },
  {
   "cell_type": "code",
   "execution_count": 3,
   "metadata": {},
   "outputs": [
    {
     "data": {
      "text/html": [
       "<div>\n",
       "<style scoped>\n",
       "    .dataframe tbody tr th:only-of-type {\n",
       "        vertical-align: middle;\n",
       "    }\n",
       "\n",
       "    .dataframe tbody tr th {\n",
       "        vertical-align: top;\n",
       "    }\n",
       "\n",
       "    .dataframe thead th {\n",
       "        text-align: right;\n",
       "    }\n",
       "</style>\n",
       "<table border=\"1\" class=\"dataframe\">\n",
       "  <thead>\n",
       "    <tr style=\"text-align: right;\">\n",
       "      <th></th>\n",
       "      <th>Type</th>\n",
       "      <th>Stock</th>\n",
       "      <th>VIN</th>\n",
       "      <th>Year</th>\n",
       "      <th>Make</th>\n",
       "      <th>Model</th>\n",
       "      <th>Body</th>\n",
       "      <th>ModelNumber</th>\n",
       "      <th>Doors</th>\n",
       "      <th>ExteriorColor</th>\n",
       "      <th>...</th>\n",
       "      <th>CityMPG</th>\n",
       "      <th>HighwayMPG</th>\n",
       "      <th>EPAClassification</th>\n",
       "      <th>Wheelbase_Code</th>\n",
       "      <th>Internet_Price</th>\n",
       "      <th>MarketClass</th>\n",
       "      <th>PassengerCapacity</th>\n",
       "      <th>ExtColorHexCode</th>\n",
       "      <th>IntColorHexCode</th>\n",
       "      <th>EngineDisplacementCubicInches</th>\n",
       "    </tr>\n",
       "  </thead>\n",
       "  <tbody>\n",
       "    <tr>\n",
       "      <th>0</th>\n",
       "      <td>Used</td>\n",
       "      <td>T237890</td>\n",
       "      <td>A9FGFF8ST43CEFJ3Y</td>\n",
       "      <td>2019</td>\n",
       "      <td>Mazda</td>\n",
       "      <td>CX-9</td>\n",
       "      <td>Sport Utility</td>\n",
       "      <td>MACX-VF899A</td>\n",
       "      <td>4</td>\n",
       "      <td>Snowflake White Pearl Mica</td>\n",
       "      <td>...</td>\n",
       "      <td>20.0</td>\n",
       "      <td>26.0</td>\n",
       "      <td>Small SUV 4WD</td>\n",
       "      <td>115.3</td>\n",
       "      <td>0</td>\n",
       "      <td>4WD Sport Utility Vehicles</td>\n",
       "      <td>7</td>\n",
       "      <td>E7E8E8</td>\n",
       "      <td>NaN</td>\n",
       "      <td>152.0</td>\n",
       "    </tr>\n",
       "    <tr>\n",
       "      <th>1</th>\n",
       "      <td>Used</td>\n",
       "      <td>C120321</td>\n",
       "      <td>3RCKVP1GRJK1F6A8A</td>\n",
       "      <td>2024</td>\n",
       "      <td>Maserati</td>\n",
       "      <td>Levante</td>\n",
       "      <td>Sport Utility</td>\n",
       "      <td>MALE-SN743K</td>\n",
       "      <td>4</td>\n",
       "      <td>Bianco</td>\n",
       "      <td>...</td>\n",
       "      <td>16.0</td>\n",
       "      <td>22.0</td>\n",
       "      <td>Standard SUV 4WD</td>\n",
       "      <td>118.3</td>\n",
       "      <td>0</td>\n",
       "      <td>4WD Sport Utility Vehicles</td>\n",
       "      <td>5</td>\n",
       "      <td>NaN</td>\n",
       "      <td>NaN</td>\n",
       "      <td>182.0</td>\n",
       "    </tr>\n",
       "    <tr>\n",
       "      <th>2</th>\n",
       "      <td>Used</td>\n",
       "      <td>K666069</td>\n",
       "      <td>1W2XUCYU7BR72MDJR</td>\n",
       "      <td>2019</td>\n",
       "      <td>Volkswagen</td>\n",
       "      <td>Tiguan</td>\n",
       "      <td>Sport Utility</td>\n",
       "      <td>VOTI-UG651L</td>\n",
       "      <td>4</td>\n",
       "      <td>Platinum Gray Metallic</td>\n",
       "      <td>...</td>\n",
       "      <td>22.0</td>\n",
       "      <td>29.0</td>\n",
       "      <td>Small SUV 2WD</td>\n",
       "      <td>109.8</td>\n",
       "      <td>0</td>\n",
       "      <td>2WD Sport Utility Vehicles</td>\n",
       "      <td>7</td>\n",
       "      <td>NaN</td>\n",
       "      <td>NaN</td>\n",
       "      <td>121.0</td>\n",
       "    </tr>\n",
       "    <tr>\n",
       "      <th>3</th>\n",
       "      <td>Used</td>\n",
       "      <td>U309999</td>\n",
       "      <td>LDTMAMFH0Y2B3YXM1</td>\n",
       "      <td>2022</td>\n",
       "      <td>INFINITI</td>\n",
       "      <td>Q50</td>\n",
       "      <td>4dr Car</td>\n",
       "      <td>INQ5-CH685U</td>\n",
       "      <td>4</td>\n",
       "      <td>Midnight Black</td>\n",
       "      <td>...</td>\n",
       "      <td>20.0</td>\n",
       "      <td>26.0</td>\n",
       "      <td>Midsize Cars</td>\n",
       "      <td>112.2</td>\n",
       "      <td>0</td>\n",
       "      <td>4-door Mid-Size Passenger Car</td>\n",
       "      <td>5</td>\n",
       "      <td>08090B</td>\n",
       "      <td>NaN</td>\n",
       "      <td>183.0</td>\n",
       "    </tr>\n",
       "    <tr>\n",
       "      <th>4</th>\n",
       "      <td>Used</td>\n",
       "      <td>K436038</td>\n",
       "      <td>M4A5XPBCYH2HH2NXT</td>\n",
       "      <td>2019</td>\n",
       "      <td>Hyundai</td>\n",
       "      <td>Elantra</td>\n",
       "      <td>4dr Car</td>\n",
       "      <td>HYEL-AS987K</td>\n",
       "      <td>4</td>\n",
       "      <td>Symphony Silver</td>\n",
       "      <td>...</td>\n",
       "      <td>28.0</td>\n",
       "      <td>37.0</td>\n",
       "      <td>Midsize Cars</td>\n",
       "      <td>106.3</td>\n",
       "      <td>0</td>\n",
       "      <td>4-door Mid-Size Passenger Car</td>\n",
       "      <td>5</td>\n",
       "      <td>ADADB0</td>\n",
       "      <td>NaN</td>\n",
       "      <td>122.0</td>\n",
       "    </tr>\n",
       "  </tbody>\n",
       "</table>\n",
       "<p>5 rows × 44 columns</p>\n",
       "</div>"
      ],
      "text/plain": [
       "   Type    Stock                VIN  Year        Make    Model           Body  \\\n",
       "0  Used  T237890  A9FGFF8ST43CEFJ3Y  2019       Mazda     CX-9  Sport Utility   \n",
       "1  Used  C120321  3RCKVP1GRJK1F6A8A  2024    Maserati  Levante  Sport Utility   \n",
       "2  Used  K666069  1W2XUCYU7BR72MDJR  2019  Volkswagen   Tiguan  Sport Utility   \n",
       "3  Used  U309999  LDTMAMFH0Y2B3YXM1  2022    INFINITI      Q50        4dr Car   \n",
       "4  Used  K436038  M4A5XPBCYH2HH2NXT  2019     Hyundai  Elantra        4dr Car   \n",
       "\n",
       "   ModelNumber  Doors               ExteriorColor  ... CityMPG  HighwayMPG  \\\n",
       "0  MACX-VF899A      4  Snowflake White Pearl Mica  ...    20.0        26.0   \n",
       "1  MALE-SN743K      4                      Bianco  ...    16.0        22.0   \n",
       "2  VOTI-UG651L      4      Platinum Gray Metallic  ...    22.0        29.0   \n",
       "3  INQ5-CH685U      4              Midnight Black  ...    20.0        26.0   \n",
       "4  HYEL-AS987K      4             Symphony Silver  ...    28.0        37.0   \n",
       "\n",
       "  EPAClassification Wheelbase_Code  Internet_Price  \\\n",
       "0     Small SUV 4WD          115.3               0   \n",
       "1  Standard SUV 4WD          118.3               0   \n",
       "2     Small SUV 2WD          109.8               0   \n",
       "3      Midsize Cars          112.2               0   \n",
       "4      Midsize Cars          106.3               0   \n",
       "\n",
       "                     MarketClass  PassengerCapacity  ExtColorHexCode  \\\n",
       "0     4WD Sport Utility Vehicles                  7           E7E8E8   \n",
       "1     4WD Sport Utility Vehicles                  5              NaN   \n",
       "2     2WD Sport Utility Vehicles                  7              NaN   \n",
       "3  4-door Mid-Size Passenger Car                  5           08090B   \n",
       "4  4-door Mid-Size Passenger Car                  5           ADADB0   \n",
       "\n",
       "   IntColorHexCode  EngineDisplacementCubicInches  \n",
       "0              NaN                          152.0  \n",
       "1              NaN                          182.0  \n",
       "2              NaN                          121.0  \n",
       "3              NaN                          183.0  \n",
       "4              NaN                          122.0  \n",
       "\n",
       "[5 rows x 44 columns]"
      ]
     },
     "execution_count": 3,
     "metadata": {},
     "output_type": "execute_result"
    }
   ],
   "source": [
    "data.head()"
   ]
  },
  {
   "cell_type": "code",
   "execution_count": 4,
   "metadata": {},
   "outputs": [],
   "source": [
    "# Choose the relevant columns\n",
    "car_data = data[['Year', 'Make', 'Model', 'Body', 'Type', 'SellingPrice', 'Miles']]"
   ]
  },
  {
   "cell_type": "code",
   "execution_count": 5,
   "metadata": {},
   "outputs": [
    {
     "name": "stderr",
     "output_type": "stream",
     "text": [
      "/var/folders/tc/cqcw_gcs6md3gx9jdjh0vzn40000gn/T/ipykernel_27694/2610810007.py:2: SettingWithCopyWarning: \n",
      "A value is trying to be set on a copy of a slice from a DataFrame.\n",
      "Try using .loc[row_indexer,col_indexer] = value instead\n",
      "\n",
      "See the caveats in the documentation: https://pandas.pydata.org/pandas-docs/stable/user_guide/indexing.html#returning-a-view-versus-a-copy\n",
      "  car_data['Description'] = car_data.apply(\n"
     ]
    }
   ],
   "source": [
    "# Create descriptions using the specified columns\n",
    "car_data['Description'] = car_data.apply(\n",
    "    lambda x: f\"This {x['Type'].lower()} {x['Year']} {x['Make']} {x['Model']} ({x['Body']}) is available with {x['Miles']} miles on it, priced at ${x['SellingPrice']}.\",\n",
    "    axis=1\n",
    ")\n"
   ]
  },
  {
   "cell_type": "code",
   "execution_count": 6,
   "metadata": {},
   "outputs": [
    {
     "name": "stderr",
     "output_type": "stream",
     "text": [
      "/Users/rachelsu/Library/Python/3.9/lib/python/site-packages/urllib3/__init__.py:35: NotOpenSSLWarning: urllib3 v2 only supports OpenSSL 1.1.1+, currently the 'ssl' module is compiled with 'LibreSSL 2.8.3'. See: https://github.com/urllib3/urllib3/issues/3020\n",
      "  warnings.warn(\n",
      "/Users/rachelsu/Library/Python/3.9/lib/python/site-packages/tqdm/auto.py:21: TqdmWarning: IProgress not found. Please update jupyter and ipywidgets. See https://ipywidgets.readthedocs.io/en/stable/user_install.html\n",
      "  from .autonotebook import tqdm as notebook_tqdm\n"
     ]
    }
   ],
   "source": [
    "from sentence_transformers import SentenceTransformer\n",
    "\n",
    "model = SentenceTransformer('all-MiniLM-L6-v2')\n",
    "car_descriptions = car_data['Description'].tolist()\n",
    "embeddings = model.encode(car_descriptions)  # Tokenization happens inside this method"
   ]
  },
  {
   "cell_type": "code",
   "execution_count": 18,
   "metadata": {},
   "outputs": [
    {
     "data": {
      "text/plain": [
       "array([[-0.02732036,  0.04825462, -0.01141483, ..., -0.02746291,\n",
       "         0.0070663 ,  0.03526576],\n",
       "       [ 0.02950551,  0.07138043, -0.04255501, ..., -0.12728263,\n",
       "        -0.02583528,  0.02534381],\n",
       "       [ 0.01272458,  0.06354401, -0.00794959, ..., -0.05221234,\n",
       "         0.00841411, -0.00870328],\n",
       "       ...,\n",
       "       [ 0.02310975,  0.00051346, -0.0059001 , ..., -0.04938873,\n",
       "        -0.02024106,  0.01209321],\n",
       "       [ 0.06988271, -0.00136273, -0.04225773, ..., -0.0219748 ,\n",
       "        -0.06578232,  0.03824491],\n",
       "       [ 0.02089814, -0.05344448,  0.01506673, ..., -0.06895059,\n",
       "        -0.03189105,  0.02332423]], dtype=float32)"
      ]
     },
     "execution_count": 18,
     "metadata": {},
     "output_type": "execute_result"
    }
   ],
   "source": [
    "embeddings"
   ]
  },
  {
   "cell_type": "code",
   "execution_count": 9,
   "metadata": {},
   "outputs": [
    {
     "name": "stderr",
     "output_type": "stream",
     "text": [
      "huggingface/tokenizers: The current process just got forked, after parallelism has already been used. Disabling parallelism to avoid deadlocks...\n",
      "To disable this warning, you can either:\n",
      "\t- Avoid using `tokenizers` before the fork if possible\n",
      "\t- Explicitly set the environment variable TOKENIZERS_PARALLELISM=(true | false)\n"
     ]
    },
    {
     "name": "stdout",
     "output_type": "stream",
     "text": [
      "Defaulting to user installation because normal site-packages is not writeable\n",
      "Collecting qdrant-client\n",
      "  Using cached qdrant_client-1.12.1-py3-none-any.whl (267 kB)\n",
      "Requirement already satisfied: pydantic>=1.10.8 in /Users/rachelsu/Library/Python/3.9/lib/python/site-packages (from qdrant-client) (2.10.1)\n",
      "Collecting grpcio>=1.41.0\n",
      "  Downloading grpcio-1.68.0-cp39-cp39-macosx_10_9_universal2.whl (11.1 MB)\n",
      "\u001b[K     |████████████████████████████████| 11.1 MB 5.7 MB/s eta 0:00:01\n",
      "\u001b[?25hRequirement already satisfied: numpy>=1.21 in /Users/rachelsu/Library/Python/3.9/lib/python/site-packages (from qdrant-client) (1.26.4)\n",
      "Requirement already satisfied: urllib3<3,>=1.26.14 in /Users/rachelsu/Library/Python/3.9/lib/python/site-packages (from qdrant-client) (2.2.3)\n",
      "Requirement already satisfied: httpx[http2]>=0.20.0 in /Users/rachelsu/Library/Python/3.9/lib/python/site-packages (from qdrant-client) (0.27.2)\n",
      "Collecting grpcio-tools>=1.41.0\n",
      "  Downloading grpcio_tools-1.68.0-cp39-cp39-macosx_10_9_universal2.whl (5.6 MB)\n",
      "\u001b[K     |████████████████████████████████| 5.6 MB 12.6 MB/s eta 0:00:01\n",
      "\u001b[?25hCollecting portalocker<3.0.0,>=2.7.0\n",
      "  Using cached portalocker-2.10.1-py3-none-any.whl (18 kB)\n",
      "Collecting protobuf<6.0dev,>=5.26.1\n",
      "  Using cached protobuf-5.28.3-cp38-abi3-macosx_10_9_universal2.whl (414 kB)\n",
      "Requirement already satisfied: setuptools in /Library/Developer/CommandLineTools/Library/Frameworks/Python3.framework/Versions/3.9/lib/python3.9/site-packages (from grpcio-tools>=1.41.0->qdrant-client) (58.0.4)\n",
      "Requirement already satisfied: anyio in /Users/rachelsu/Library/Python/3.9/lib/python/site-packages (from httpx[http2]>=0.20.0->qdrant-client) (4.6.2.post1)\n",
      "Requirement already satisfied: idna in /Users/rachelsu/Library/Python/3.9/lib/python/site-packages (from httpx[http2]>=0.20.0->qdrant-client) (3.10)\n",
      "Requirement already satisfied: certifi in /Users/rachelsu/Library/Python/3.9/lib/python/site-packages (from httpx[http2]>=0.20.0->qdrant-client) (2024.8.30)\n",
      "Requirement already satisfied: sniffio in /Users/rachelsu/Library/Python/3.9/lib/python/site-packages (from httpx[http2]>=0.20.0->qdrant-client) (1.3.1)\n",
      "Requirement already satisfied: httpcore==1.* in /Users/rachelsu/Library/Python/3.9/lib/python/site-packages (from httpx[http2]>=0.20.0->qdrant-client) (1.0.7)\n",
      "Collecting h2<5,>=3\n",
      "  Using cached h2-4.1.0-py3-none-any.whl (57 kB)\n",
      "Requirement already satisfied: h11<0.15,>=0.13 in /Users/rachelsu/Library/Python/3.9/lib/python/site-packages (from httpcore==1.*->httpx[http2]>=0.20.0->qdrant-client) (0.14.0)\n",
      "Collecting hyperframe<7,>=6.0\n",
      "  Using cached hyperframe-6.0.1-py3-none-any.whl (12 kB)\n",
      "Collecting hpack<5,>=4.0\n",
      "  Using cached hpack-4.0.0-py3-none-any.whl (32 kB)\n",
      "Requirement already satisfied: typing-extensions>=4.12.2 in /Users/rachelsu/Library/Python/3.9/lib/python/site-packages (from pydantic>=1.10.8->qdrant-client) (4.12.2)\n",
      "Requirement already satisfied: annotated-types>=0.6.0 in /Users/rachelsu/Library/Python/3.9/lib/python/site-packages (from pydantic>=1.10.8->qdrant-client) (0.7.0)\n",
      "Requirement already satisfied: pydantic-core==2.27.1 in /Users/rachelsu/Library/Python/3.9/lib/python/site-packages (from pydantic>=1.10.8->qdrant-client) (2.27.1)\n",
      "Requirement already satisfied: exceptiongroup>=1.0.2 in /Users/rachelsu/Library/Python/3.9/lib/python/site-packages (from anyio->httpx[http2]>=0.20.0->qdrant-client) (1.2.2)\n",
      "Installing collected packages: hyperframe, hpack, protobuf, h2, grpcio, portalocker, grpcio-tools, qdrant-client\n",
      "  Attempting uninstall: protobuf\n",
      "    Found existing installation: protobuf 4.25.4\n",
      "    Uninstalling protobuf-4.25.4:\n",
      "      Successfully uninstalled protobuf-4.25.4\n",
      "\u001b[31mERROR: pip's dependency resolver does not currently take into account all the packages that are installed. This behaviour is the source of the following dependency conflicts.\n",
      "mediapipe 0.10.14 requires protobuf<5,>=4.25.3, but you have protobuf 5.28.3 which is incompatible.\u001b[0m\n",
      "Successfully installed grpcio-1.68.0 grpcio-tools-1.68.0 h2-4.1.0 hpack-4.0.0 hyperframe-6.0.1 portalocker-2.10.1 protobuf-5.28.3 qdrant-client-1.12.1\n",
      "\u001b[33mWARNING: You are using pip version 21.2.4; however, version 24.3.1 is available.\n",
      "You should consider upgrading via the '/Library/Developer/CommandLineTools/usr/bin/python3 -m pip install --upgrade pip' command.\u001b[0m\n",
      "Note: you may need to restart the kernel to use updated packages.\n"
     ]
    }
   ],
   "source": [
    "%pip install qdrant-client "
   ]
  },
  {
   "cell_type": "code",
   "execution_count": 11,
   "metadata": {},
   "outputs": [
    {
     "name": "stderr",
     "output_type": "stream",
     "text": [
      "/var/folders/tc/cqcw_gcs6md3gx9jdjh0vzn40000gn/T/ipykernel_27694/3069789817.py:7: DeprecationWarning: `recreate_collection` method is deprecated and will be removed in the future. Use `collection_exists` to check collection existence and `create_collection` instead.\n",
      "  qdrant_client.recreate_collection(\n"
     ]
    }
   ],
   "source": [
    "from qdrant_client import QdrantClient\n",
    "\n",
    "# Connect to Qdrant\n",
    "qdrant_client = QdrantClient(host=\"localhost\", port=6333)\n",
    "\n",
    "# Recreate collection in Qdrant\n",
    "qdrant_client.recreate_collection(\n",
    "    collection_name=\"car_inventory\",\n",
    "    vectors_config={\n",
    "        \"size\": embeddings.shape[1],  # Set the size of the embeddings\n",
    "        \"distance\": \"Cosine\"\n",
    "    }\n",
    ")\n",
    "\n",
    "# Insert embeddings and payload data (the car metadata)\n",
    "payloads = car_data.to_dict(orient='records')\n",
    "\n",
    "for idx, embedding in enumerate(embeddings):\n",
    "    qdrant_client.upsert(\n",
    "        collection_name=\"car_inventory\",\n",
    "        points=[{\n",
    "            \"id\": idx,\n",
    "            \"vector\": embedding,\n",
    "            \"payload\": payloads[idx]  # Metadata like make, model, year, etc.\n",
    "        }]\n",
    "    )\n"
   ]
  },
  {
   "cell_type": "markdown",
   "metadata": {},
   "source": [
    "Embed User Query: Whenever a user interacts with your chatbot (e.g., \"I need a sporty car with a sunroof and under 50,000 km\"), you need to embed that query in the same vector space using the same pre-trained model."
   ]
  },
  {
   "cell_type": "code",
   "execution_count": 20,
   "metadata": {
    "vscode": {
     "languageId": "javascript"
    }
   },
   "outputs": [
    {
     "name": "stdout",
     "output_type": "stream",
     "text": [
      "[-6.38828240e-03  5.80477016e-03  4.08137552e-02  3.93117964e-02\n",
      "  4.05845568e-02  5.45865204e-03 -9.15498752e-03  1.09380409e-01\n",
      " -4.75045219e-02  2.84793340e-02 -5.59764951e-02 -1.41913919e-02\n",
      " -1.09247528e-02  2.29265336e-02 -7.38242567e-02 -1.12899477e-02\n",
      "  5.17451838e-02 -1.07439961e-02  6.74635023e-02 -1.37995780e-01\n",
      " -6.88347071e-02  1.27536885e-03  1.47997206e-02 -5.20672165e-02\n",
      "  7.04043880e-02  2.22652238e-02 -4.50448543e-02  5.98479956e-02\n",
      " -2.11478267e-02 -8.39523152e-02 -5.79475090e-02  1.00443410e-02\n",
      " -1.52543308e-02  4.96001274e-04  4.36216630e-02 -1.22747347e-01\n",
      "  2.83980388e-02 -5.01799732e-02 -1.77814346e-02  1.24330781e-02\n",
      " -3.00273541e-02 -2.20638216e-02 -4.26334590e-02 -2.94980351e-02\n",
      "  5.03240339e-02  8.51810817e-03  2.85735149e-02  5.12616411e-02\n",
      "  2.50139367e-02 -1.94193032e-02 -6.49578124e-02 -1.69865396e-02\n",
      " -6.18485063e-02 -6.07991638e-03 -1.01835288e-01 -1.41785620e-02\n",
      " -7.43189454e-02 -1.83115564e-02 -3.04249651e-03 -4.59572040e-02\n",
      "  4.36099246e-02 -7.12770373e-02 -1.69828925e-02 -1.09495567e-02\n",
      " -4.20261510e-02  4.50495221e-02  2.60795164e-03 -4.53911237e-02\n",
      " -5.42604439e-02  1.10494964e-01  2.58576050e-02 -6.88956724e-03\n",
      "  4.31726091e-02 -2.94962395e-02 -2.29688548e-02 -3.35454158e-02\n",
      "  1.41454622e-01 -5.76984324e-02 -4.87377271e-02 -1.77316759e-02\n",
      " -6.03007562e-02 -5.59352413e-02 -8.69745687e-02 -6.83973655e-02\n",
      "  8.84685945e-03 -3.69048901e-02  7.97879100e-02 -2.78071836e-02\n",
      " -7.10715947e-04  2.89766937e-02 -1.30335605e-02  2.46874336e-02\n",
      " -5.41768335e-02 -4.65098880e-02 -5.71194962e-02  5.29148318e-02\n",
      "  8.84589329e-02  1.66320708e-02 -4.15451117e-02  7.85463955e-03\n",
      "  7.78669119e-02 -1.86653901e-02  8.26463848e-02  5.44751855e-03\n",
      " -5.45292534e-02  2.57433318e-02  9.30461511e-02  3.98762934e-02\n",
      " -7.66626932e-03 -2.35974062e-02 -2.72435341e-02  1.25464238e-02\n",
      " -6.77473545e-02 -6.90525398e-02 -4.71537337e-02 -5.65840714e-02\n",
      "  1.86781771e-02  1.35363378e-02  7.73093924e-02  1.36009846e-02\n",
      " -4.81179096e-02 -6.74873739e-02  4.03360017e-02  3.59870754e-02\n",
      " -4.83304337e-02 -6.60123974e-02 -2.93520484e-02 -3.99510673e-33\n",
      " -4.93879728e-02 -4.10769209e-02  1.64732756e-03 -2.89304517e-02\n",
      " -3.80436890e-02  1.57840755e-02 -1.06222499e-02  2.04343479e-02\n",
      " -6.19010665e-02  3.43602337e-02  1.70026682e-02 -4.61755656e-02\n",
      " -4.82523516e-02 -4.93304022e-02  1.19694643e-01  9.67081562e-02\n",
      " -1.11553587e-01  1.94120780e-02 -9.76274088e-02 -7.50580654e-02\n",
      " -5.99189326e-02  5.36425561e-02  2.14751791e-02 -3.38505954e-02\n",
      " -1.05100926e-02 -1.42785963e-02  1.40626007e-03 -6.80970997e-02\n",
      "  8.74114484e-02  9.07410309e-03 -5.72393723e-02  2.86772922e-02\n",
      "  8.58413950e-02  2.64834668e-02  4.02524369e-03 -1.59104690e-02\n",
      " -4.22542915e-02  1.65091418e-02 -1.61100589e-02  1.29317613e-02\n",
      "  7.57362694e-02 -1.30400630e-02 -4.47824225e-02  2.95962561e-02\n",
      "  6.36511967e-02  1.24343252e-02 -6.33839965e-02  1.28804776e-03\n",
      "  2.57206894e-03 -8.57849140e-03 -7.06201941e-02 -8.01967806e-04\n",
      " -3.10520455e-02  2.22666538e-03 -1.26991817e-03 -1.36030698e-03\n",
      "  8.86041205e-03  3.21375616e-02 -2.89591495e-03  3.64047103e-02\n",
      " -7.90003240e-02  4.47353721e-03 -1.85843408e-02 -4.18754853e-02\n",
      " -1.21285794e-02  1.60816275e-02 -1.77865047e-02  5.73149212e-02\n",
      " -6.79878965e-02  8.30689222e-02 -6.67846156e-03  1.29189957e-02\n",
      "  7.86557570e-02  3.80112752e-02  6.78340420e-02  8.17942843e-02\n",
      "  7.61719570e-02 -4.35115770e-02  2.52532121e-03 -1.50014590e-02\n",
      " -1.50794687e-03  6.25961348e-02 -1.86438989e-02  6.77944347e-02\n",
      "  4.51975390e-02  1.35844387e-02 -2.35273354e-02 -5.37775159e-02\n",
      "  4.27293517e-02  1.52526237e-02 -6.03651330e-02 -2.42253616e-02\n",
      "  5.30685671e-02 -5.95570654e-02 -1.19739519e-02  1.57816123e-33\n",
      "  5.48995100e-02  8.17497540e-03  1.14913121e-01  6.50733486e-02\n",
      "  4.50073369e-02  3.88912857e-02 -5.37771396e-02  1.50746964e-02\n",
      "  2.42887205e-03  9.64421406e-02 -4.53130854e-03  5.54193296e-02\n",
      "  1.06484838e-01 -1.26867311e-03  5.04763536e-02  1.12639284e-02\n",
      "  9.80398655e-02 -1.15929946e-01 -6.27660081e-02 -8.64602923e-02\n",
      "  8.26121774e-03  9.72563922e-02  1.37304673e-02  1.69808865e-02\n",
      " -2.06053741e-02  1.25081846e-02 -6.96962699e-02  2.27056369e-02\n",
      "  4.61459681e-02 -4.17684354e-02  7.62522360e-03  4.43899371e-02\n",
      "  1.23598306e-02  3.59526873e-02  1.02419052e-02  2.00407542e-02\n",
      "  9.89257637e-03 -2.65129167e-03 -5.67212515e-02  1.00917958e-01\n",
      " -2.40739323e-02 -3.45250405e-02  3.20387781e-02  4.66783717e-02\n",
      " -1.38657233e-02 -6.23793490e-02 -7.89202154e-02 -6.86742887e-02\n",
      "  1.00075714e-01  7.64376447e-02  6.34683073e-02 -3.37330997e-02\n",
      " -4.11823839e-02  6.15075342e-02 -5.28255887e-02 -1.84330642e-02\n",
      "  2.10102573e-02  1.19390137e-01  4.24049646e-02  3.85384150e-02\n",
      "  5.50978296e-02  1.33286398e-02 -3.96327972e-02  2.41905842e-02\n",
      "  5.63722663e-02 -8.14062357e-02  2.68569086e-02  2.26100832e-02\n",
      " -9.95154008e-02 -1.00837320e-01 -5.08512743e-02 -5.52105904e-03\n",
      "  8.19206145e-03 -3.91860539e-03 -2.00268403e-02  3.07702720e-02\n",
      "  4.96423133e-02  2.47944742e-02  1.28872707e-01 -5.67894652e-02\n",
      "  4.62228172e-02 -3.16341920e-03  9.98131279e-03  1.66318379e-02\n",
      " -5.88110136e-03 -2.17210725e-02  5.68801630e-03 -2.06786692e-02\n",
      "  6.53100237e-02  7.08781108e-02  1.59641914e-03  2.84441616e-02\n",
      "  8.44373778e-02  4.42788564e-03 -1.38572693e-01 -1.72409624e-08\n",
      "  7.52196386e-02 -6.58566058e-02  2.50290353e-02  6.74386099e-02\n",
      "  7.97024090e-03 -2.35007517e-02  2.73723453e-02  5.51293083e-02\n",
      "  2.84704156e-02  7.54010379e-02  4.25139293e-02 -9.12599787e-02\n",
      "  1.71856135e-02  2.27812957e-02 -5.26638515e-02 -5.16753308e-02\n",
      " -6.45371750e-02  4.19468395e-02  4.22131084e-02 -1.07381195e-01\n",
      " -4.30314206e-02  2.66768467e-02  2.87897568e-02  4.47674990e-02\n",
      " -1.87654924e-02 -6.13201894e-02  1.95437949e-02  3.85137014e-02\n",
      "  6.14810102e-02 -2.71212682e-02 -1.68070644e-02  5.06682741e-03\n",
      "  9.03575569e-02 -7.32308999e-02 -5.99010885e-02 -1.29972110e-02\n",
      " -4.43640351e-02  7.02443393e-03 -2.79186610e-02 -3.34124602e-02\n",
      "  9.16909948e-02 -2.81346384e-02 -1.05501287e-01  1.27696048e-03\n",
      "  4.60030846e-02 -3.78610454e-02 -7.05388337e-02 -1.34699151e-01\n",
      "  1.84704028e-02  5.92236314e-03 -6.36781454e-02  5.79970656e-03\n",
      " -6.35702536e-03  6.02169894e-02  3.61556164e-03 -1.67709943e-02\n",
      " -1.68884434e-02  1.53562182e-03 -2.05152202e-02 -3.03008799e-02\n",
      "  7.46004358e-02 -7.86833558e-03  5.92412613e-02  7.60430247e-02]\n"
     ]
    }
   ],
   "source": [
    "user_query = \"Can you list me the top 5 cheapest car\"\n",
    "query_embedding = model.encode([user_query])[0]"
   ]
  },
  {
   "cell_type": "code",
   "execution_count": 21,
   "metadata": {},
   "outputs": [
    {
     "name": "stdout",
     "output_type": "stream",
     "text": [
      "Match: 2022 Audi A5 Coupe, Price: $22997\n",
      "Match: 2023 Mazda CX-5, Price: $20498\n",
      "Match: 2021 Maserati Quattroporte, Price: $42998\n",
      "Match: 2021 INFINITI Q50, Price: $24998\n",
      "Match: 2022 INFINITI Q60, Price: $33498\n"
     ]
    }
   ],
   "source": [
    "results = qdrant_client.search(\n",
    "    collection_name=\"car_inventory\",\n",
    "    query_vector=query_embedding,\n",
    "    limit=5  # Retrieve the top 5 matches\n",
    ")\n",
    "\n",
    "# Print results\n",
    "for result in results:\n",
    "    car_details = result.payload\n",
    "    print(f\"Match: {car_details['Year']} {car_details['Make']} {car_details['Model']}, Price: ${car_details['SellingPrice']}\")"
   ]
  },
  {
   "cell_type": "code",
   "execution_count": 22,
   "metadata": {},
   "outputs": [
    {
     "name": "stderr",
     "output_type": "stream",
     "text": [
      "huggingface/tokenizers: The current process just got forked, after parallelism has already been used. Disabling parallelism to avoid deadlocks...\n",
      "To disable this warning, you can either:\n",
      "\t- Avoid using `tokenizers` before the fork if possible\n",
      "\t- Explicitly set the environment variable TOKENIZERS_PARALLELISM=(true | false)\n"
     ]
    },
    {
     "name": "stdout",
     "output_type": "stream",
     "text": [
      "\u001b[33mWARNING: You are using pip version 21.2.4; however, version 24.3.1 is available.\n",
      "You should consider upgrading via the '/Library/Developer/CommandLineTools/usr/bin/python3 -m pip install --upgrade pip' command.\u001b[0m\n",
      "Note: you may need to restart the kernel to use updated packages.\n"
     ]
    }
   ],
   "source": [
    "%pip install transformers torch --quiet\n"
   ]
  },
  {
   "cell_type": "code",
   "execution_count": 23,
   "metadata": {},
   "outputs": [],
   "source": [
    "from transformers import GPT2LMHeadModel, GPT2Tokenizer, pipeline\n",
    "\n",
    "# Load the pre-trained GPT-2 model and tokenizer\n",
    "model_name = \"gpt2\"\n",
    "tokenizer = GPT2Tokenizer.from_pretrained(model_name)\n",
    "model = GPT2LMHeadModel.from_pretrained(model_name)"
   ]
  },
  {
   "cell_type": "code",
   "execution_count": 24,
   "metadata": {},
   "outputs": [
    {
     "name": "stderr",
     "output_type": "stream",
     "text": [
      "Hardware accelerator e.g. GPU is available in the environment, but no `device` argument is passed to the `Pipeline` object. Model will be on CPU.\n"
     ]
    }
   ],
   "source": [
    "# Create a text generation pipeline\n",
    "generator = pipeline(\"text-generation\", model=model, tokenizer=tokenizer)"
   ]
  },
  {
   "cell_type": "code",
   "execution_count": 25,
   "metadata": {},
   "outputs": [
    {
     "name": "stderr",
     "output_type": "stream",
     "text": [
      "Truncation was not explicitly activated but `max_length` is provided a specific value, please use `truncation=True` to explicitly truncate examples to max length. Defaulting to 'longest_first' truncation strategy. If you encode pairs of sequences (GLUE-style) with the tokenizer you can select this strategy more precisely by providing a specific strategy to `truncation`.\n",
      "Setting `pad_token_id` to `eos_token_id`:None for open-end generation.\n"
     ]
    },
    {
     "name": "stdout",
     "output_type": "stream",
     "text": [
      "User asked: 'Do you have a sporty car with a sunroof and under 50,000 km?' Here are some options: 2021 Mazda3 Hatchback with a sunroof, 32,000 km. Provide a friendly response. (1)\n",
      "\n",
      "(1) https://mobile.nissan.com/legal/legal-mari-2013-new-mazda-3-hybrid-hatchback/\n",
      "\n",
      "(1) https://mobile.n\n"
     ]
    }
   ],
   "source": [
    "# Test the model with a prompt\n",
    "prompt = \"User asked: 'Do you have a sporty car with a sunroof and under 50,000 km?' Here are some options: 2021 Mazda3 Hatchback with a sunroof, 32,000 km. Provide a friendly response.\"\n",
    "\n",
    "response = generator(prompt, max_length=100, num_return_sequences=1)\n",
    "print(response[0]['generated_text'])"
   ]
  }
 ],
 "metadata": {
  "kernelspec": {
   "display_name": "Python 3",
   "language": "python",
   "name": "python3"
  },
  "language_info": {
   "codemirror_mode": {
    "name": "ipython",
    "version": 3
   },
   "file_extension": ".py",
   "mimetype": "text/x-python",
   "name": "python",
   "nbconvert_exporter": "python",
   "pygments_lexer": "ipython3",
   "version": "3.9.6"
  }
 },
 "nbformat": 4,
 "nbformat_minor": 2
}
